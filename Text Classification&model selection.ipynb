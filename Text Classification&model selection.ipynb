{
 "cells": [
  {
   "cell_type": "markdown",
   "metadata": {},
   "source": [
    "Model selection is the task of selecting a statistical model from a set of candidate models, given data. In the simplest cases, a pre-existing set of data is considered. Given candidate models of similar predictive or explanatory power, the simplest model is most likely to be the best choice.\n",
    "\n",
    "The data is available in Google BigQuery that can be downloaded from here. The data is also publicly available at this Cloud Storage URL: https://storage.googleapis.com/tensorflow-workshop-examples/stack-overflow-data.csv."
   ]
  },
  {
   "cell_type": "markdown",
   "metadata": {},
   "source": [
    "Gensim is a Python library for topic modelling, document indexing and similarity retrieval with large corpora. Target audience is the natural language processing (NLP) and information retrieval (IR) community."
   ]
  },
  {
   "cell_type": "code",
   "execution_count": 2,
   "metadata": {},
   "outputs": [
    {
     "name": "stderr",
     "output_type": "stream",
     "text": [
      "D:\\anaconda\\lib\\site-packages\\gensim\\utils.py:1197: UserWarning: detected Windows; aliasing chunkize to chunkize_serial\n",
      "  warnings.warn(\"detected Windows; aliasing chunkize to chunkize_serial\")\n"
     ]
    }
   ],
   "source": [
    "import logging\n",
    "import pandas as pd\n",
    "import numpy as np\n",
    "from numpy import random\n",
    "import gensim\n",
    "import nltk\n",
    "from sklearn.model_selection import train_test_split\n",
    "from sklearn.feature_extraction.text import CountVectorizer, TfidfVectorizer\n",
    "from sklearn.metrics import accuracy_score, confusion_matrix\n",
    "import matplotlib.pyplot as plt\n",
    "from nltk.corpus import stopwords\n",
    "import re\n",
    "from bs4 import BeautifulSoup\n",
    "\n",
    "%matplotlib inline"
   ]
  },
  {
   "cell_type": "code",
   "execution_count": 3,
   "metadata": {},
   "outputs": [
    {
     "data": {
      "text/html": [
       "<div>\n",
       "<style scoped>\n",
       "    .dataframe tbody tr th:only-of-type {\n",
       "        vertical-align: middle;\n",
       "    }\n",
       "\n",
       "    .dataframe tbody tr th {\n",
       "        vertical-align: top;\n",
       "    }\n",
       "\n",
       "    .dataframe thead th {\n",
       "        text-align: right;\n",
       "    }\n",
       "</style>\n",
       "<table border=\"1\" class=\"dataframe\">\n",
       "  <thead>\n",
       "    <tr style=\"text-align: right;\">\n",
       "      <th></th>\n",
       "      <th>post</th>\n",
       "      <th>tags</th>\n",
       "    </tr>\n",
       "  </thead>\n",
       "  <tbody>\n",
       "    <tr>\n",
       "      <th>0</th>\n",
       "      <td>what is causing this behavior  in our c# datet...</td>\n",
       "      <td>c#</td>\n",
       "    </tr>\n",
       "    <tr>\n",
       "      <th>1</th>\n",
       "      <td>have dynamic html load as if it was in an ifra...</td>\n",
       "      <td>asp.net</td>\n",
       "    </tr>\n",
       "    <tr>\n",
       "      <th>2</th>\n",
       "      <td>how to convert a float value in to min:sec  i ...</td>\n",
       "      <td>objective-c</td>\n",
       "    </tr>\n",
       "    <tr>\n",
       "      <th>3</th>\n",
       "      <td>.net framework 4 redistributable  just wonderi...</td>\n",
       "      <td>.net</td>\n",
       "    </tr>\n",
       "    <tr>\n",
       "      <th>4</th>\n",
       "      <td>trying to calculate and print the mean and its...</td>\n",
       "      <td>python</td>\n",
       "    </tr>\n",
       "    <tr>\n",
       "      <th>5</th>\n",
       "      <td>how to give alias name for my website  i have ...</td>\n",
       "      <td>asp.net</td>\n",
       "    </tr>\n",
       "    <tr>\n",
       "      <th>6</th>\n",
       "      <td>window.open() returns null in angularjs  it wo...</td>\n",
       "      <td>angularjs</td>\n",
       "    </tr>\n",
       "    <tr>\n",
       "      <th>7</th>\n",
       "      <td>identifying server timeout quickly in iphone  ...</td>\n",
       "      <td>iphone</td>\n",
       "    </tr>\n",
       "    <tr>\n",
       "      <th>8</th>\n",
       "      <td>unknown method key  error in rails 2.3.8 unit ...</td>\n",
       "      <td>ruby-on-rails</td>\n",
       "    </tr>\n",
       "    <tr>\n",
       "      <th>9</th>\n",
       "      <td>from the include  how to show and hide the con...</td>\n",
       "      <td>angularjs</td>\n",
       "    </tr>\n",
       "  </tbody>\n",
       "</table>\n",
       "</div>"
      ],
      "text/plain": [
       "                                                post           tags\n",
       "0  what is causing this behavior  in our c# datet...             c#\n",
       "1  have dynamic html load as if it was in an ifra...        asp.net\n",
       "2  how to convert a float value in to min:sec  i ...    objective-c\n",
       "3  .net framework 4 redistributable  just wonderi...           .net\n",
       "4  trying to calculate and print the mean and its...         python\n",
       "5  how to give alias name for my website  i have ...        asp.net\n",
       "6  window.open() returns null in angularjs  it wo...      angularjs\n",
       "7  identifying server timeout quickly in iphone  ...         iphone\n",
       "8  unknown method key  error in rails 2.3.8 unit ...  ruby-on-rails\n",
       "9  from the include  how to show and hide the con...      angularjs"
      ]
     },
     "execution_count": 3,
     "metadata": {},
     "output_type": "execute_result"
    }
   ],
   "source": [
    "df = pd.read_csv('stack-overflow-data.csv')\n",
    "df = df[pd.notnull(df['tags'])]\n",
    "df.head(10)"
   ]
  },
  {
   "cell_type": "code",
   "execution_count": 4,
   "metadata": {},
   "outputs": [
    {
     "data": {
      "text/plain": [
       "10286120"
      ]
     },
     "execution_count": 4,
     "metadata": {},
     "output_type": "execute_result"
    }
   ],
   "source": [
    "df['post'].apply(lambda x: len(x.split(' '))).sum()"
   ]
  },
  {
   "cell_type": "code",
   "execution_count": 5,
   "metadata": {},
   "outputs": [
    {
     "data": {
      "image/png": "[encoded data removed]",
      "text/plain": [
       "<Figure size 720x288 with 1 Axes>"
      ]
     },
     "metadata": {
      "needs_background": "light"
     },
     "output_type": "display_data"
    }
   ],
   "source": [
    "#We have over 10 million words in the data.\n",
    "\n",
    "\n",
    "my_tags = ['java','html','asp.net','c#','ruby-on-rails','jquery','mysql','php','ios','javascript','python','c','css','android','iphone','sql','objective-c','c++','angularjs','.net']\n",
    "plt.figure(figsize=(10,4))\n",
    "df.tags.value_counts().plot(kind='bar');"
   ]
  },
  {
   "cell_type": "code",
   "execution_count": 6,
   "metadata": {},
   "outputs": [],
   "source": [
    "#The classes are very well balanced.\n",
    "\n",
    "\n",
    "def print_plot(index):\n",
    "    example = df[df.index == index][['post', 'tags']].values[0]\n",
    "    if len(example) > 0:\n",
    "        print(example[0])\n",
    "        print('Tag:', example[1])"
   ]
  },
  {
   "cell_type": "code",
   "execution_count": 7,
   "metadata": {},
   "outputs": [
    {
     "name": "stdout",
     "output_type": "stream",
     "text": [
      "when we need interface c# <blockquote>    <strong>possible duplicate:</strong><br>   <a href= https://stackoverflow.com/questions/240152/why-would-i-want-to-use-interfaces >why would i want to use interfaces </a>   <a href= https://stackoverflow.com/questions/9451868/why-i-need-interface >why i need interface </a>    </blockquote>     i want to know where and when to use it     for example    <pre><code>interface idemo {  // function prototype  public void show(); }  // first class using the interface class myclass1 : idemo {  public void show()  {   // function body comes here   response.write( i m in myclass );  }  }  // second class using the interface class myclass2 : idemo {  public void show()   {   // function body comes here   response.write( i m in myclass2 );   response.write( so  what  );  } </code></pre>   these two classes has the same function name with different body. this can be even achieved without interface. then why we need an interface where and when to use it\n",
      "Tag: c#\n"
     ]
    }
   ],
   "source": [
    "#Have a look a few post and tag pairs.\n",
    "\n",
    "print_plot(10)"
   ]
  },
  {
   "cell_type": "code",
   "execution_count": 8,
   "metadata": {},
   "outputs": [
    {
     "name": "stdout",
     "output_type": "stream",
     "text": [
      "how to chain expressions inside ngclass when using the {...}[] form  how can i add another expression to an <code>ng-class</code> directive that uses this form:   <pre><code>ng-class= {true: loading   false: loading-done }[data.loader===null]  </code></pre>   i d like to add something like this to the list:   <pre><code>{highlight:isspecial} </code></pre>   is it possible without expanding the first expression     thanks.\n",
      "Tag: angularjs\n"
     ]
    }
   ],
   "source": [
    "print_plot(30)"
   ]
  },
  {
   "cell_type": "code",
   "execution_count": 9,
   "metadata": {},
   "outputs": [],
   "source": [
    "#The text need to be cleaned up.\n",
    "\n",
    "\n",
    "REPLACE_BY_SPACE_RE = re.compile('[/(){}\\[\\]\\|@,;]')\n",
    "BAD_SYMBOLS_RE = re.compile('[^0-9a-z #+_]')\n",
    "STOPWORDS = set(stopwords.words('english'))\n",
    "\n",
    "def clean_text(text):\n",
    "    \"\"\"\n",
    "        text: a string\n",
    "        \n",
    "        return: modified initial string\n",
    "    \"\"\"\n",
    "    text = BeautifulSoup(text, \"lxml\").text # HTML decoding\n",
    "    text = text.lower() # lowercase text\n",
    "    text = REPLACE_BY_SPACE_RE.sub(' ', text) # replace REPLACE_BY_SPACE_RE symbols by space in text\n",
    "    text = BAD_SYMBOLS_RE.sub('', text) # delete symbols which are in BAD_SYMBOLS_RE from text\n",
    "    text = ' '.join(word for word in text.split() if word not in STOPWORDS) # delete stopwors from text\n",
    "    return text"
   ]
  },
  {
   "cell_type": "code",
   "execution_count": 10,
   "metadata": {},
   "outputs": [],
   "source": [
    "df['post'] = df['post'].apply(clean_text)"
   ]
  },
  {
   "cell_type": "code",
   "execution_count": 11,
   "metadata": {},
   "outputs": [
    {
     "name": "stdout",
     "output_type": "stream",
     "text": [
      "need interface c# possible duplicate would want use interfaces need interface want know use example interface idemo function prototype public void show first class using interface class myclass1 idemo public void show function body comes responsewrite myclass second class using interface class myclass2 idemo public void show function body comes responsewrite myclass2 responsewrite two classes function name different body even achieved without interface need interface use\n",
      "Tag: c#\n"
     ]
    }
   ],
   "source": [
    "\n",
    "print_plot(10)"
   ]
  },
  {
   "cell_type": "code",
   "execution_count": 12,
   "metadata": {},
   "outputs": [
    {
     "data": {
      "text/plain": [
       "3424297"
      ]
     },
     "execution_count": 12,
     "metadata": {},
     "output_type": "execute_result"
    }
   ],
   "source": [
    "df['post'].apply(lambda x: len(x.split(' '))).sum()"
   ]
  },
  {
   "cell_type": "code",
   "execution_count": 13,
   "metadata": {},
   "outputs": [],
   "source": [
    "#Now we have over 3 million words to work with.\n",
    "\n",
    "\n",
    "X = df.post\n",
    "y = df.tags\n",
    "X_train, X_test, y_train, y_test = train_test_split(X, y, test_size=0.3, random_state = 42)"
   ]
  },
  {
   "cell_type": "markdown",
   "metadata": {},
   "source": [
    "\n",
    "The next steps includes feature engineering. We will convert our text documents to a matrix of token counts (CountVectorizer), then transform a count matrix to a normalized tf-idf representation (tf-idf transformer). After that, we train several classifiers."
   ]
  },
  {
   "cell_type": "markdown",
   "metadata": {},
   "source": [
    "# Naive Bayes classifier for multinomial model"
   ]
  },
  {
   "cell_type": "code",
   "execution_count": 14,
   "metadata": {},
   "outputs": [
    {
     "data": {
      "text/plain": [
       "Pipeline(memory=None,\n",
       "     steps=[('vect', CountVectorizer(analyzer='word', binary=False, decode_error='strict',\n",
       "        dtype=<class 'numpy.int64'>, encoding='utf-8', input='content',\n",
       "        lowercase=True, max_df=1.0, max_features=None, min_df=1,\n",
       "        ngram_range=(1, 1), preprocessor=None, stop_words=None,\n",
       "        strip...inear_tf=False, use_idf=True)), ('clf', MultinomialNB(alpha=1.0, class_prior=None, fit_prior=True))])"
      ]
     },
     "execution_count": 14,
     "metadata": {},
     "output_type": "execute_result"
    }
   ],
   "source": [
    "from sklearn.naive_bayes import MultinomialNB\n",
    "from sklearn.pipeline import Pipeline\n",
    "from sklearn.feature_extraction.text import TfidfTransformer\n",
    "\n",
    "nb = Pipeline([('vect', CountVectorizer()),\n",
    "               ('tfidf', TfidfTransformer()),\n",
    "               ('clf', MultinomialNB()),\n",
    "              ])\n",
    "nb.fit(X_train, y_train)"
   ]
  },
  {
   "cell_type": "code",
   "execution_count": 15,
   "metadata": {},
   "outputs": [
    {
     "name": "stdout",
     "output_type": "stream",
     "text": [
      "accuracy 0.7395\n",
      "               precision    recall  f1-score   support\n",
      "\n",
      "         java       0.63      0.65      0.64       613\n",
      "         html       0.94      0.86      0.90       620\n",
      "      asp.net       0.87      0.92      0.90       587\n",
      "           c#       0.70      0.77      0.73       586\n",
      "ruby-on-rails       0.73      0.87      0.79       599\n",
      "       jquery       0.72      0.51      0.60       589\n",
      "        mysql       0.77      0.74      0.75       594\n",
      "          php       0.69      0.89      0.78       610\n",
      "          ios       0.63      0.59      0.61       617\n",
      "   javascript       0.57      0.65      0.60       587\n",
      "       python       0.70      0.50      0.59       611\n",
      "            c       0.79      0.78      0.79       594\n",
      "          css       0.84      0.59      0.69       619\n",
      "      android       0.66      0.84      0.74       574\n",
      "       iphone       0.64      0.83      0.72       584\n",
      "          sql       0.66      0.64      0.65       578\n",
      "  objective-c       0.79      0.77      0.78       591\n",
      "          c++       0.89      0.83      0.86       608\n",
      "    angularjs       0.94      0.89      0.91       638\n",
      "         .net       0.74      0.66      0.70       601\n",
      "\n",
      "  avg / total       0.75      0.74      0.74     12000\n",
      "\n",
      "Wall time: 801 ms\n"
     ]
    }
   ],
   "source": [
    "%%time\n",
    "from sklearn.metrics import classification_report\n",
    "y_pred = nb.predict(X_test)\n",
    "\n",
    "print('accuracy %s' % accuracy_score(y_pred, y_test))\n",
    "print(classification_report(y_test, y_pred,target_names=my_tags))"
   ]
  },
  {
   "cell_type": "markdown",
   "metadata": {},
   "source": [
    "# Linear support vector machine¶"
   ]
  },
  {
   "cell_type": "code",
   "execution_count": 16,
   "metadata": {},
   "outputs": [
    {
     "data": {
      "text/plain": [
       "Pipeline(memory=None,\n",
       "     steps=[('vect', CountVectorizer(analyzer='word', binary=False, decode_error='strict',\n",
       "        dtype=<class 'numpy.int64'>, encoding='utf-8', input='content',\n",
       "        lowercase=True, max_df=1.0, max_features=None, min_df=1,\n",
       "        ngram_range=(1, 1), preprocessor=None, stop_words=None,\n",
       "        strip...ty='l2', power_t=0.5, random_state=42, shuffle=True,\n",
       "       tol=None, verbose=0, warm_start=False))])"
      ]
     },
     "execution_count": 16,
     "metadata": {},
     "output_type": "execute_result"
    }
   ],
   "source": [
    "from sklearn.linear_model import SGDClassifier\n",
    "\n",
    "sgd = Pipeline([('vect', CountVectorizer()),\n",
    "                ('tfidf', TfidfTransformer()),\n",
    "                ('clf', SGDClassifier(loss='hinge', penalty='l2',alpha=1e-3, random_state=42, max_iter=5, tol=None)),\n",
    "               ])\n",
    "sgd.fit(X_train, y_train)"
   ]
  },
  {
   "cell_type": "code",
   "execution_count": 17,
   "metadata": {},
   "outputs": [
    {
     "name": "stdout",
     "output_type": "stream",
     "text": [
      "accuracy 0.7883333333333333\n",
      "               precision    recall  f1-score   support\n",
      "\n",
      "         java       0.74      0.67      0.70       613\n",
      "         html       0.84      0.93      0.88       620\n",
      "      asp.net       0.87      0.95      0.91       587\n",
      "           c#       0.81      0.80      0.81       586\n",
      "ruby-on-rails       0.74      0.88      0.81       599\n",
      "       jquery       0.76      0.40      0.52       589\n",
      "        mysql       0.83      0.68      0.75       594\n",
      "          php       0.70      0.95      0.81       610\n",
      "          ios       0.82      0.56      0.66       617\n",
      "   javascript       0.72      0.59      0.65       587\n",
      "       python       0.71      0.65      0.68       611\n",
      "            c       0.81      0.87      0.84       594\n",
      "          css       0.76      0.79      0.78       619\n",
      "      android       0.83      0.86      0.85       574\n",
      "       iphone       0.82      0.80      0.81       584\n",
      "          sql       0.70      0.68      0.69       578\n",
      "  objective-c       0.80      0.90      0.85       591\n",
      "          c++       0.84      0.96      0.89       608\n",
      "    angularjs       0.87      0.95      0.91       638\n",
      "         .net       0.77      0.89      0.83       601\n",
      "\n",
      "  avg / total       0.79      0.79      0.78     12000\n",
      "\n",
      "Wall time: 784 ms\n"
     ]
    }
   ],
   "source": [
    "%%time\n",
    "\n",
    "y_pred = sgd.predict(X_test)\n",
    "\n",
    "print('accuracy %s' % accuracy_score(y_pred, y_test))\n",
    "print(classification_report(y_test, y_pred,target_names=my_tags))\n"
   ]
  },
  {
   "cell_type": "markdown",
   "metadata": {},
   "source": [
    "# Logistic regression"
   ]
  },
  {
   "cell_type": "code",
   "execution_count": 18,
   "metadata": {},
   "outputs": [
    {
     "data": {
      "text/plain": [
       "Pipeline(memory=None,\n",
       "     steps=[('vect', CountVectorizer(analyzer='word', binary=False, decode_error='strict',\n",
       "        dtype=<class 'numpy.int64'>, encoding='utf-8', input='content',\n",
       "        lowercase=True, max_df=1.0, max_features=None, min_df=1,\n",
       "        ngram_range=(1, 1), preprocessor=None, stop_words=None,\n",
       "        strip...ty='l2', random_state=None,\n",
       "          solver='liblinear', tol=0.0001, verbose=0, warm_start=False))])"
      ]
     },
     "execution_count": 18,
     "metadata": {},
     "output_type": "execute_result"
    }
   ],
   "source": [
    "from sklearn.linear_model import LogisticRegression\n",
    "\n",
    "logreg = Pipeline([('vect', CountVectorizer()),\n",
    "                ('tfidf', TfidfTransformer()),\n",
    "                ('clf', LogisticRegression(n_jobs=1, C=1e5)),\n",
    "               ])\n",
    "logreg.fit(X_train, y_train)"
   ]
  },
  {
   "cell_type": "code",
   "execution_count": 19,
   "metadata": {},
   "outputs": [
    {
     "name": "stdout",
     "output_type": "stream",
     "text": [
      "accuracy 0.783\n",
      "               precision    recall  f1-score   support\n",
      "\n",
      "         java       0.69      0.63      0.66       613\n",
      "         html       0.91      0.91      0.91       620\n",
      "      asp.net       0.97      0.94      0.95       587\n",
      "           c#       0.79      0.77      0.78       586\n",
      "ruby-on-rails       0.77      0.81      0.79       599\n",
      "       jquery       0.60      0.58      0.59       589\n",
      "        mysql       0.77      0.75      0.76       594\n",
      "          php       0.82      0.85      0.83       610\n",
      "          ios       0.70      0.71      0.71       617\n",
      "   javascript       0.61      0.59      0.60       587\n",
      "       python       0.64      0.63      0.63       611\n",
      "            c       0.83      0.83      0.83       594\n",
      "          css       0.78      0.78      0.78       619\n",
      "      android       0.85      0.85      0.85       574\n",
      "       iphone       0.81      0.83      0.82       584\n",
      "          sql       0.65      0.64      0.64       578\n",
      "  objective-c       0.82      0.85      0.83       591\n",
      "          c++       0.91      0.91      0.91       608\n",
      "    angularjs       0.96      0.94      0.95       638\n",
      "         .net       0.78      0.83      0.80       601\n",
      "\n",
      "  avg / total       0.78      0.78      0.78     12000\n",
      "\n",
      "Wall time: 817 ms\n"
     ]
    }
   ],
   "source": [
    "%%time\n",
    "\n",
    "y_pred = logreg.predict(X_test)\n",
    "\n",
    "print('accuracy %s' % accuracy_score(y_pred, y_test))\n",
    "print(classification_report(y_test, y_pred,target_names=my_tags))"
   ]
  },
  {
   "cell_type": "markdown",
   "metadata": {},
   "source": [
    "# BOW with keras"
   ]
  },
  {
   "cell_type": "markdown",
   "metadata": {},
   "source": [
    "https://realpython.com/python-keras-text-classification/   (practical implimentation of text classification)"
   ]
  },
  {
   "cell_type": "code",
   "execution_count": 26,
   "metadata": {},
   "outputs": [
    {
     "name": "stderr",
     "output_type": "stream",
     "text": [
      "Using TensorFlow backend.\n"
     ]
    }
   ],
   "source": [
    "import itertools\n",
    "import os\n",
    "\n",
    "%matplotlib inline\n",
    "import matplotlib.pyplot as plt\n",
    "import numpy as np\n",
    "import pandas as pd\n",
    "import tensorflow as tf\n",
    "\n",
    "from sklearn.preprocessing import LabelBinarizer, LabelEncoder\n",
    "from sklearn.metrics import confusion_matrix\n",
    "\n",
    "from tensorflow import keras\n",
    "from keras.models import Sequential\n",
    "from keras.layers import Dense, Activation, Dropout\n",
    "from keras.preprocessing import text, sequence\n",
    "from keras import utils"
   ]
  },
  {
   "cell_type": "code",
   "execution_count": 27,
   "metadata": {},
   "outputs": [
    {
     "name": "stdout",
     "output_type": "stream",
     "text": [
      "Train size: 28000\n",
      "Test size: 12000\n"
     ]
    }
   ],
   "source": [
    "train_size = int(len(df) * .7)\n",
    "print (\"Train size: %d\" % train_size)\n",
    "print (\"Test size: %d\" % (len(df) - train_size))"
   ]
  },
  {
   "cell_type": "code",
   "execution_count": 28,
   "metadata": {},
   "outputs": [],
   "source": [
    "train_posts = df['post'][:train_size]\n",
    "train_tags = df['tags'][:train_size]\n",
    "\n",
    "test_posts = df['post'][train_size:]\n",
    "test_tags = df['tags'][train_size:]"
   ]
  },
  {
   "cell_type": "code",
   "execution_count": 29,
   "metadata": {},
   "outputs": [],
   "source": [
    "max_words = 1000\n",
    "tokenize = text.Tokenizer(num_words=max_words, char_level=False)\n"
   ]
  },
  {
   "cell_type": "code",
   "execution_count": 30,
   "metadata": {},
   "outputs": [],
   "source": [
    "\n",
    "tokenize.fit_on_texts(train_posts) # only fit on train\n",
    "x_train = tokenize.texts_to_matrix(train_posts)\n",
    "x_test = tokenize.texts_to_matrix(test_posts)\n"
   ]
  },
  {
   "cell_type": "code",
   "execution_count": 31,
   "metadata": {},
   "outputs": [],
   "source": [
    "\n",
    "encoder = LabelEncoder()\n",
    "encoder.fit(train_tags)\n",
    "y_train = encoder.transform(train_tags)\n",
    "y_test = encoder.transform(test_tags)\n"
   ]
  },
  {
   "cell_type": "code",
   "execution_count": 32,
   "metadata": {},
   "outputs": [],
   "source": [
    "\n",
    "num_classes = np.max(y_train) + 1\n",
    "y_train = utils.to_categorical(y_train, num_classes)\n",
    "y_test = utils.to_categorical(y_test, num_classes)\n"
   ]
  },
  {
   "cell_type": "code",
   "execution_count": 33,
   "metadata": {},
   "outputs": [
    {
     "name": "stdout",
     "output_type": "stream",
     "text": [
      "x_train shape: (28000, 1000)\n",
      "x_test shape: (12000, 1000)\n",
      "y_train shape: (28000, 20)\n",
      "y_test shape: (12000, 20)\n"
     ]
    }
   ],
   "source": [
    "\n",
    "print('x_train shape:', x_train.shape)\n",
    "print('x_test shape:', x_test.shape)\n",
    "print('y_train shape:', y_train.shape)\n",
    "print('y_test shape:', y_test.shape)"
   ]
  },
  {
   "cell_type": "code",
   "execution_count": 34,
   "metadata": {},
   "outputs": [],
   "source": [
    "batch_size = 32\n",
    "epochs = 2"
   ]
  },
  {
   "cell_type": "code",
   "execution_count": 35,
   "metadata": {},
   "outputs": [
    {
     "name": "stdout",
     "output_type": "stream",
     "text": [
      "WARNING:tensorflow:From D:\\anaconda\\lib\\site-packages\\tensorflow\\python\\framework\\op_def_library.py:263: colocate_with (from tensorflow.python.framework.ops) is deprecated and will be removed in a future version.\n",
      "Instructions for updating:\n",
      "Colocations handled automatically by placer.\n",
      "WARNING:tensorflow:From D:\\anaconda\\lib\\site-packages\\keras\\backend\\tensorflow_backend.py:3445: calling dropout (from tensorflow.python.ops.nn_ops) with keep_prob is deprecated and will be removed in a future version.\n",
      "Instructions for updating:\n",
      "Please use `rate` instead of `keep_prob`. Rate should be set to `rate = 1 - keep_prob`.\n"
     ]
    }
   ],
   "source": [
    "# Build the model\n",
    "model = Sequential()\n",
    "model.add(Dense(512, input_shape=(max_words,)))\n",
    "model.add(Activation('relu'))\n",
    "model.add(Dropout(0.5))\n",
    "model.add(Dense(num_classes))\n",
    "model.add(Activation('softmax'))\n",
    "\n",
    "model.compile(loss='categorical_crossentropy',\n",
    "              optimizer='adam',\n",
    "              metrics=['accuracy'])"
   ]
  },
  {
   "cell_type": "code",
   "execution_count": 36,
   "metadata": {
    "scrolled": true
   },
   "outputs": [
    {
     "name": "stdout",
     "output_type": "stream",
     "text": [
      "WARNING:tensorflow:From D:\\anaconda\\lib\\site-packages\\tensorflow\\python\\ops\\math_ops.py:3066: to_int32 (from tensorflow.python.ops.math_ops) is deprecated and will be removed in a future version.\n",
      "Instructions for updating:\n",
      "Use tf.cast instead.\n",
      "Train on 25200 samples, validate on 2800 samples\n",
      "Epoch 1/2\n",
      "25200/25200 [==============================] - ETA: 9:00 - loss: 3.0374 - acc: 0.0000e+0 - ETA: 1:55 - loss: 3.0427 - acc: 0.0500    - ETA: 1:08 - loss: 2.9969 - acc: 0.069 - ETA: 47s - loss: 2.9566 - acc: 0.089 - ETA: 36s - loss: 2.9351 - acc: 0.10 - ETA: 31s - loss: 2.9067 - acc: 0.11 - ETA: 27s - loss: 2.8756 - acc: 0.13 - ETA: 25s - loss: 2.8503 - acc: 0.15 - ETA: 22s - loss: 2.8128 - acc: 0.17 - ETA: 20s - loss: 2.7715 - acc: 0.20 - ETA: 19s - loss: 2.7328 - acc: 0.22 - ETA: 18s - loss: 2.7039 - acc: 0.24 - ETA: 17s - loss: 2.6629 - acc: 0.26 - ETA: 16s - loss: 2.6326 - acc: 0.28 - ETA: 16s - loss: 2.5889 - acc: 0.30 - ETA: 15s - loss: 2.5559 - acc: 0.31 - ETA: 15s - loss: 2.5246 - acc: 0.32 - ETA: 14s - loss: 2.4938 - acc: 0.34 - ETA: 14s - loss: 2.4488 - acc: 0.35 - ETA: 13s - loss: 2.4205 - acc: 0.37 - ETA: 13s - loss: 2.3928 - acc: 0.38 - ETA: 13s - loss: 2.3550 - acc: 0.39 - ETA: 12s - loss: 2.3190 - acc: 0.40 - ETA: 12s - loss: 2.2841 - acc: 0.41 - ETA: 12s - loss: 2.2464 - acc: 0.43 - ETA: 11s - loss: 2.2134 - acc: 0.43 - ETA: 11s - loss: 2.1759 - acc: 0.45 - ETA: 11s - loss: 2.1537 - acc: 0.45 - ETA: 11s - loss: 2.1234 - acc: 0.46 - ETA: 11s - loss: 2.1023 - acc: 0.46 - ETA: 11s - loss: 2.0846 - acc: 0.47 - ETA: 11s - loss: 2.0607 - acc: 0.47 - ETA: 10s - loss: 2.0407 - acc: 0.48 - ETA: 10s - loss: 2.0160 - acc: 0.48 - ETA: 10s - loss: 1.9873 - acc: 0.49 - ETA: 10s - loss: 1.9655 - acc: 0.50 - ETA: 10s - loss: 1.9451 - acc: 0.50 - ETA: 10s - loss: 1.9226 - acc: 0.51 - ETA: 10s - loss: 1.8996 - acc: 0.51 - ETA: 9s - loss: 1.8697 - acc: 0.5251 - ETA: 9s - loss: 1.8433 - acc: 0.531 - ETA: 9s - loss: 1.8184 - acc: 0.538 - ETA: 9s - loss: 1.7990 - acc: 0.542 - ETA: 8s - loss: 1.7763 - acc: 0.547 - ETA: 8s - loss: 1.7513 - acc: 0.554 - ETA: 8s - loss: 1.7287 - acc: 0.560 - ETA: 8s - loss: 1.7154 - acc: 0.564 - ETA: 8s - loss: 1.7012 - acc: 0.567 - ETA: 8s - loss: 1.6869 - acc: 0.570 - ETA: 8s - loss: 1.6743 - acc: 0.572 - ETA: 8s - loss: 1.6611 - acc: 0.575 - ETA: 8s - loss: 1.6432 - acc: 0.580 - ETA: 7s - loss: 1.6248 - acc: 0.584 - ETA: 7s - loss: 1.6112 - acc: 0.587 - ETA: 7s - loss: 1.5977 - acc: 0.591 - ETA: 7s - loss: 1.5818 - acc: 0.594 - ETA: 7s - loss: 1.5702 - acc: 0.596 - ETA: 7s - loss: 1.5584 - acc: 0.598 - ETA: 7s - loss: 1.5474 - acc: 0.600 - ETA: 7s - loss: 1.5332 - acc: 0.604 - ETA: 7s - loss: 1.5212 - acc: 0.606 - ETA: 6s - loss: 1.5088 - acc: 0.609 - ETA: 6s - loss: 1.4992 - acc: 0.612 - ETA: 6s - loss: 1.4885 - acc: 0.614 - ETA: 6s - loss: 1.4794 - acc: 0.616 - ETA: 6s - loss: 1.4718 - acc: 0.617 - ETA: 6s - loss: 1.4625 - acc: 0.619 - ETA: 6s - loss: 1.4523 - acc: 0.621 - ETA: 6s - loss: 1.4382 - acc: 0.625 - ETA: 6s - loss: 1.4292 - acc: 0.627 - ETA: 6s - loss: 1.4222 - acc: 0.628 - ETA: 5s - loss: 1.4130 - acc: 0.629 - ETA: 5s - loss: 1.4034 - acc: 0.632 - ETA: 5s - loss: 1.3946 - acc: 0.634 - ETA: 5s - loss: 1.3866 - acc: 0.636 - ETA: 5s - loss: 1.3781 - acc: 0.637 - ETA: 5s - loss: 1.3700 - acc: 0.639 - ETA: 5s - loss: 1.3654 - acc: 0.640 - ETA: 5s - loss: 1.3580 - acc: 0.642 - ETA: 5s - loss: 1.3477 - acc: 0.644 - ETA: 5s - loss: 1.3419 - acc: 0.645 - ETA: 5s - loss: 1.3337 - acc: 0.647 - ETA: 5s - loss: 1.3253 - acc: 0.649 - ETA: 4s - loss: 1.3203 - acc: 0.650 - ETA: 4s - loss: 1.3134 - acc: 0.651 - ETA: 4s - loss: 1.3050 - acc: 0.653 - ETA: 4s - loss: 1.2977 - acc: 0.655 - ETA: 4s - loss: 1.2907 - acc: 0.657 - ETA: 4s - loss: 1.2865 - acc: 0.658 - ETA: 4s - loss: 1.2814 - acc: 0.659 - ETA: 4s - loss: 1.2743 - acc: 0.660 - ETA: 4s - loss: 1.2669 - acc: 0.662 - ETA: 4s - loss: 1.2629 - acc: 0.662 - ETA: 4s - loss: 1.2597 - acc: 0.663 - ETA: 4s - loss: 1.2544 - acc: 0.665 - ETA: 4s - loss: 1.2516 - acc: 0.665 - ETA: 4s - loss: 1.2484 - acc: 0.666 - ETA: 4s - loss: 1.2417 - acc: 0.667 - ETA: 3s - loss: 1.2348 - acc: 0.668 - ETA: 3s - loss: 1.2293 - acc: 0.670 - ETA: 3s - loss: 1.2246 - acc: 0.670 - ETA: 3s - loss: 1.2182 - acc: 0.672 - ETA: 3s - loss: 1.2161 - acc: 0.672 - ETA: 3s - loss: 1.2113 - acc: 0.673 - ETA: 3s - loss: 1.2067 - acc: 0.674 - ETA: 3s - loss: 1.2011 - acc: 0.675 - ETA: 3s - loss: 1.1952 - acc: 0.677 - ETA: 3s - loss: 1.1903 - acc: 0.678 - ETA: 3s - loss: 1.1877 - acc: 0.679 - ETA: 3s - loss: 1.1814 - acc: 0.681 - ETA: 3s - loss: 1.1767 - acc: 0.682 - ETA: 2s - loss: 1.1721 - acc: 0.683 - ETA: 2s - loss: 1.1683 - acc: 0.683 - ETA: 2s - loss: 1.1625 - acc: 0.685 - ETA: 2s - loss: 1.1584 - acc: 0.686 - ETA: 2s - loss: 1.1550 - acc: 0.687 - ETA: 2s - loss: 1.1513 - acc: 0.687 - ETA: 2s - loss: 1.1471 - acc: 0.688 - ETA: 2s - loss: 1.1432 - acc: 0.689 - ETA: 2s - loss: 1.1397 - acc: 0.690 - ETA: 2s - loss: 1.1358 - acc: 0.690 - ETA: 2s - loss: 1.1330 - acc: 0.691 - ETA: 2s - loss: 1.1281 - acc: 0.692 - ETA: 2s - loss: 1.1249 - acc: 0.693 - ETA: 1s - loss: 1.1213 - acc: 0.694 - ETA: 1s - loss: 1.1167 - acc: 0.695 - ETA: 1s - loss: 1.1122 - acc: 0.696 - ETA: 1s - loss: 1.1087 - acc: 0.696 - ETA: 1s - loss: 1.1073 - acc: 0.697 - ETA: 1s - loss: 1.1037 - acc: 0.697 - ETA: 1s - loss: 1.1004 - acc: 0.698 - ETA: 1s - loss: 1.0981 - acc: 0.698 - ETA: 1s - loss: 1.0945 - acc: 0.699 - ETA: 1s - loss: 1.0915 - acc: 0.700 - ETA: 1s - loss: 1.0903 - acc: 0.700 - ETA: 1s - loss: 1.0870 - acc: 0.701 - ETA: 1s - loss: 1.0846 - acc: 0.701 - ETA: 1s - loss: 1.0833 - acc: 0.701 - ETA: 1s - loss: 1.0805 - acc: 0.702 - ETA: 1s - loss: 1.0762 - acc: 0.703 - ETA: 0s - loss: 1.0736 - acc: 0.703 - ETA: 0s - loss: 1.0704 - acc: 0.704 - ETA: 0s - loss: 1.0686 - acc: 0.704 - ETA: 0s - loss: 1.0657 - acc: 0.705 - ETA: 0s - loss: 1.0621 - acc: 0.706 - ETA: 0s - loss: 1.0595 - acc: 0.706 - ETA: 0s - loss: 1.0576 - acc: 0.706 - ETA: 0s - loss: 1.0563 - acc: 0.706 - ETA: 0s - loss: 1.0545 - acc: 0.706 - ETA: 0s - loss: 1.0520 - acc: 0.707 - ETA: 0s - loss: 1.0493 - acc: 0.708 - ETA: 0s - loss: 1.0483 - acc: 0.708 - ETA: 0s - loss: 1.0460 - acc: 0.708 - ETA: 0s - loss: 1.0445 - acc: 0.708 - ETA: 0s - loss: 1.0417 - acc: 0.709 - ETA: 0s - loss: 1.0386 - acc: 0.709 - ETA: 0s - loss: 1.0368 - acc: 0.710 - 9s 375us/step - loss: 1.0353 - acc: 0.7108 - val_loss: 0.6673 - val_acc: 0.7975\n",
      "Epoch 2/2\n"
     ]
    },
    {
     "name": "stdout",
     "output_type": "stream",
     "text": [
      "25200/25200 [==============================] - ETA: 8s - loss: 0.9342 - acc: 0.625 - ETA: 12s - loss: 0.6378 - acc: 0.79 - ETA: 13s - loss: 0.5893 - acc: 0.80 - ETA: 12s - loss: 0.6468 - acc: 0.80 - ETA: 12s - loss: 0.6286 - acc: 0.81 - ETA: 12s - loss: 0.6264 - acc: 0.81 - ETA: 11s - loss: 0.6275 - acc: 0.81 - ETA: 10s - loss: 0.6083 - acc: 0.81 - ETA: 10s - loss: 0.5979 - acc: 0.81 - ETA: 10s - loss: 0.5979 - acc: 0.81 - ETA: 10s - loss: 0.5895 - acc: 0.82 - ETA: 9s - loss: 0.5871 - acc: 0.8194 - ETA: 9s - loss: 0.5748 - acc: 0.823 - ETA: 9s - loss: 0.5810 - acc: 0.821 - ETA: 9s - loss: 0.5805 - acc: 0.822 - ETA: 9s - loss: 0.5811 - acc: 0.822 - ETA: 9s - loss: 0.5855 - acc: 0.822 - ETA: 9s - loss: 0.5788 - acc: 0.824 - ETA: 8s - loss: 0.5716 - acc: 0.825 - ETA: 8s - loss: 0.5623 - acc: 0.828 - ETA: 8s - loss: 0.5629 - acc: 0.827 - ETA: 8s - loss: 0.5702 - acc: 0.826 - ETA: 8s - loss: 0.5740 - acc: 0.824 - ETA: 8s - loss: 0.5721 - acc: 0.823 - ETA: 8s - loss: 0.5676 - acc: 0.825 - ETA: 8s - loss: 0.5690 - acc: 0.825 - ETA: 8s - loss: 0.5657 - acc: 0.826 - ETA: 8s - loss: 0.5627 - acc: 0.827 - ETA: 8s - loss: 0.5668 - acc: 0.827 - ETA: 8s - loss: 0.5643 - acc: 0.827 - ETA: 8s - loss: 0.5643 - acc: 0.827 - ETA: 7s - loss: 0.5650 - acc: 0.827 - ETA: 7s - loss: 0.5645 - acc: 0.826 - ETA: 7s - loss: 0.5697 - acc: 0.823 - ETA: 7s - loss: 0.5727 - acc: 0.821 - ETA: 7s - loss: 0.5716 - acc: 0.822 - ETA: 7s - loss: 0.5680 - acc: 0.823 - ETA: 7s - loss: 0.5684 - acc: 0.823 - ETA: 7s - loss: 0.5694 - acc: 0.823 - ETA: 7s - loss: 0.5669 - acc: 0.823 - ETA: 7s - loss: 0.5660 - acc: 0.824 - ETA: 7s - loss: 0.5663 - acc: 0.823 - ETA: 7s - loss: 0.5694 - acc: 0.821 - ETA: 7s - loss: 0.5677 - acc: 0.822 - ETA: 7s - loss: 0.5673 - acc: 0.822 - ETA: 7s - loss: 0.5690 - acc: 0.822 - ETA: 7s - loss: 0.5695 - acc: 0.822 - ETA: 7s - loss: 0.5710 - acc: 0.821 - ETA: 7s - loss: 0.5734 - acc: 0.820 - ETA: 6s - loss: 0.5720 - acc: 0.821 - ETA: 6s - loss: 0.5712 - acc: 0.821 - ETA: 6s - loss: 0.5715 - acc: 0.821 - ETA: 6s - loss: 0.5723 - acc: 0.820 - ETA: 6s - loss: 0.5717 - acc: 0.820 - ETA: 6s - loss: 0.5709 - acc: 0.820 - ETA: 6s - loss: 0.5729 - acc: 0.819 - ETA: 6s - loss: 0.5716 - acc: 0.820 - ETA: 6s - loss: 0.5698 - acc: 0.821 - ETA: 6s - loss: 0.5678 - acc: 0.821 - ETA: 6s - loss: 0.5670 - acc: 0.822 - ETA: 6s - loss: 0.5654 - acc: 0.822 - ETA: 6s - loss: 0.5641 - acc: 0.822 - ETA: 6s - loss: 0.5642 - acc: 0.822 - ETA: 6s - loss: 0.5667 - acc: 0.821 - ETA: 6s - loss: 0.5660 - acc: 0.821 - ETA: 6s - loss: 0.5664 - acc: 0.820 - ETA: 5s - loss: 0.5669 - acc: 0.820 - ETA: 5s - loss: 0.5666 - acc: 0.820 - ETA: 5s - loss: 0.5645 - acc: 0.821 - ETA: 5s - loss: 0.5648 - acc: 0.821 - ETA: 5s - loss: 0.5651 - acc: 0.820 - ETA: 5s - loss: 0.5658 - acc: 0.819 - ETA: 5s - loss: 0.5659 - acc: 0.819 - ETA: 5s - loss: 0.5653 - acc: 0.819 - ETA: 5s - loss: 0.5666 - acc: 0.818 - ETA: 5s - loss: 0.5675 - acc: 0.818 - ETA: 5s - loss: 0.5662 - acc: 0.818 - ETA: 5s - loss: 0.5659 - acc: 0.818 - ETA: 5s - loss: 0.5647 - acc: 0.818 - ETA: 5s - loss: 0.5661 - acc: 0.817 - ETA: 5s - loss: 0.5651 - acc: 0.817 - ETA: 5s - loss: 0.5660 - acc: 0.817 - ETA: 5s - loss: 0.5664 - acc: 0.816 - ETA: 4s - loss: 0.5658 - acc: 0.816 - ETA: 4s - loss: 0.5665 - acc: 0.817 - ETA: 4s - loss: 0.5665 - acc: 0.816 - ETA: 4s - loss: 0.5659 - acc: 0.817 - ETA: 4s - loss: 0.5667 - acc: 0.816 - ETA: 4s - loss: 0.5675 - acc: 0.816 - ETA: 4s - loss: 0.5659 - acc: 0.817 - ETA: 4s - loss: 0.5659 - acc: 0.817 - ETA: 4s - loss: 0.5656 - acc: 0.817 - ETA: 4s - loss: 0.5651 - acc: 0.817 - ETA: 4s - loss: 0.5650 - acc: 0.817 - ETA: 4s - loss: 0.5644 - acc: 0.817 - ETA: 4s - loss: 0.5642 - acc: 0.817 - ETA: 4s - loss: 0.5654 - acc: 0.817 - ETA: 4s - loss: 0.5662 - acc: 0.816 - ETA: 4s - loss: 0.5658 - acc: 0.817 - ETA: 4s - loss: 0.5662 - acc: 0.816 - ETA: 4s - loss: 0.5656 - acc: 0.817 - ETA: 4s - loss: 0.5660 - acc: 0.817 - ETA: 3s - loss: 0.5652 - acc: 0.817 - ETA: 3s - loss: 0.5642 - acc: 0.817 - ETA: 3s - loss: 0.5655 - acc: 0.817 - ETA: 3s - loss: 0.5655 - acc: 0.817 - ETA: 3s - loss: 0.5649 - acc: 0.817 - ETA: 3s - loss: 0.5648 - acc: 0.817 - ETA: 3s - loss: 0.5665 - acc: 0.817 - ETA: 3s - loss: 0.5664 - acc: 0.817 - ETA: 3s - loss: 0.5670 - acc: 0.817 - ETA: 3s - loss: 0.5657 - acc: 0.817 - ETA: 3s - loss: 0.5660 - acc: 0.817 - ETA: 3s - loss: 0.5669 - acc: 0.817 - ETA: 3s - loss: 0.5665 - acc: 0.817 - ETA: 2s - loss: 0.5672 - acc: 0.817 - ETA: 2s - loss: 0.5667 - acc: 0.817 - ETA: 2s - loss: 0.5654 - acc: 0.817 - ETA: 2s - loss: 0.5668 - acc: 0.817 - ETA: 2s - loss: 0.5672 - acc: 0.816 - ETA: 2s - loss: 0.5658 - acc: 0.817 - ETA: 2s - loss: 0.5650 - acc: 0.817 - ETA: 2s - loss: 0.5654 - acc: 0.817 - ETA: 2s - loss: 0.5651 - acc: 0.817 - ETA: 2s - loss: 0.5657 - acc: 0.817 - ETA: 2s - loss: 0.5657 - acc: 0.817 - ETA: 2s - loss: 0.5674 - acc: 0.816 - ETA: 2s - loss: 0.5675 - acc: 0.816 - ETA: 2s - loss: 0.5678 - acc: 0.816 - ETA: 2s - loss: 0.5665 - acc: 0.817 - ETA: 2s - loss: 0.5668 - acc: 0.817 - ETA: 1s - loss: 0.5680 - acc: 0.817 - ETA: 1s - loss: 0.5686 - acc: 0.817 - ETA: 1s - loss: 0.5683 - acc: 0.817 - ETA: 1s - loss: 0.5689 - acc: 0.816 - ETA: 1s - loss: 0.5695 - acc: 0.816 - ETA: 1s - loss: 0.5697 - acc: 0.816 - ETA: 1s - loss: 0.5688 - acc: 0.816 - ETA: 1s - loss: 0.5685 - acc: 0.817 - ETA: 1s - loss: 0.5680 - acc: 0.817 - ETA: 1s - loss: 0.5678 - acc: 0.817 - ETA: 1s - loss: 0.5684 - acc: 0.817 - ETA: 1s - loss: 0.5695 - acc: 0.816 - ETA: 1s - loss: 0.5695 - acc: 0.816 - ETA: 1s - loss: 0.5707 - acc: 0.816 - ETA: 1s - loss: 0.5702 - acc: 0.816 - ETA: 0s - loss: 0.5701 - acc: 0.816 - ETA: 0s - loss: 0.5713 - acc: 0.816 - ETA: 0s - loss: 0.5711 - acc: 0.816 - ETA: 0s - loss: 0.5707 - acc: 0.816 - ETA: 0s - loss: 0.5704 - acc: 0.816 - ETA: 0s - loss: 0.5702 - acc: 0.816 - ETA: 0s - loss: 0.5708 - acc: 0.816 - ETA: 0s - loss: 0.5705 - acc: 0.816 - ETA: 0s - loss: 0.5712 - acc: 0.816 - ETA: 0s - loss: 0.5720 - acc: 0.815 - ETA: 0s - loss: 0.5723 - acc: 0.815 - ETA: 0s - loss: 0.5729 - acc: 0.815 - ETA: 0s - loss: 0.5731 - acc: 0.815 - ETA: 0s - loss: 0.5732 - acc: 0.815 - ETA: 0s - loss: 0.5730 - acc: 0.815 - ETA: 0s - loss: 0.5719 - acc: 0.815 - 9s 363us/step - loss: 0.5719 - acc: 0.8158 - val_loss: 0.6684 - val_acc: 0.7936\n"
     ]
    }
   ],
   "source": [
    "history = model.fit(x_train, y_train,\n",
    "                    batch_size=batch_size,\n",
    "                    epochs=epochs,\n",
    "                    verbose=1,\n",
    "                    validation_split=0.1)"
   ]
  },
  {
   "cell_type": "code",
   "execution_count": 38,
   "metadata": {},
   "outputs": [
    {
     "name": "stdout",
     "output_type": "stream",
     "text": [
      "12000/12000 [==============================] - ETA:  - ETA:  - ETA:  - ETA:  - ETA:  - ETA:  - ETA:  - ETA:  - 0s 33us/step\n",
      "Test accuracy: 0.7956666666666666\n"
     ]
    }
   ],
   "source": [
    "score = model.evaluate(x_test, y_test,\n",
    "                       batch_size=batch_size, verbose=1)\n",
    "print('Test accuracy:', score[1])"
   ]
  },
  {
   "cell_type": "code",
   "execution_count": 39,
   "metadata": {},
   "outputs": [
    {
     "data": {
      "text/plain": [
       "[0.6367438935836156, 0.7956666666666666]"
      ]
     },
     "execution_count": 39,
     "metadata": {},
     "output_type": "execute_result"
    }
   ],
   "source": [
    "score"
   ]
  },
  {
   "cell_type": "code",
   "execution_count": null,
   "metadata": {},
   "outputs": [],
   "source": []
  }
 ],
 "metadata": {
  "kernelspec": {
   "display_name": "Python 3",
   "language": "python",
   "name": "python3"
  },
  "language_info": {
   "codemirror_mode": {
    "name": "ipython",
    "version": 3
   },
   "file_extension": ".py",
   "mimetype": "text/x-python",
   "name": "python",
   "nbconvert_exporter": "python",
   "pygments_lexer": "ipython3",
   "version": "3.7.0"
  }
 },
 "nbformat": 4,
 "nbformat_minor": 2
}
