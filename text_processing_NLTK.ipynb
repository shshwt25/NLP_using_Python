{
 "cells": [
  {
   "cell_type": "code",
   "execution_count": null,
   "metadata": {},
   "outputs": [],
   "source": []
  },
  {
   "cell_type": "code",
   "execution_count": 2,
   "metadata": {},
   "outputs": [
    {
     "name": "stdout",
     "output_type": "stream",
     "text": [
      "{\n",
      "    \"success\": {\n",
      "        \"total\": 1\n",
      "    },\n",
      "    \"contents\": {\n",
      "        \"quotes\": [\n",
      "            {\n",
      "                \"quote\": \"Only a man who knows what it is like to be defeated can reach down to the bottom of his soul and come up with the extra ounce of power it takes to win when the match is even.\",\n",
      "                \"author\": \"Mohamad Ali\",\n",
      "                \"length\": null,\n",
      "                \"tags\": [\n",
      "                    \"failure\",\n",
      "                    \"inspire\",\n",
      "                    \"learning-from-failure\"\n",
      "                ],\n",
      "                \"category\": \"inspire\",\n",
      "                \"title\": \"Inspiring Quote of the day\",\n",
      "                \"date\": \"2019-02-23\",\n",
      "                \"id\": null\n",
      "            }\n",
      "        ],\n",
      "        \"copyright\": \"2017-19 theysaidso.com\"\n",
      "    }\n",
      "}\n",
      "Only a man who knows what it is like to be defeated can reach down to the bottom of his soul and come up with the extra ounce of power it takes to win when the match is even. \n",
      "-- Mohamad Ali\n"
     ]
    }
   ],
   "source": [
    "import requests\n",
    "import json\n",
    "\n",
    "# Fetch data from a REST API\n",
    "r = requests.get(\n",
    "    \"https://quotes.rest/qod.json\")\n",
    "res = r.json()\n",
    "print(json.dumps(res, indent=4))\n",
    "\n",
    "# Extract relevant object and field\n",
    "q = res[\"contents\"][\"quotes\"][0]\n",
    "print(q[\"quote\"], \"\\n--\", q[\"author\"])"
   ]
  },
  {
   "cell_type": "markdown",
   "metadata": {},
   "source": [
    "# Cleaning"
   ]
  },
  {
   "cell_type": "code",
   "execution_count": 3,
   "metadata": {},
   "outputs": [
    {
     "name": "stdout",
     "output_type": "stream",
     "text": [
      "<html op=\"news\"><head><meta name=\"referrer\" content=\"origin\"><meta name=\"viewport\" content=\"width=device-width, initial-scale=1.0\"><link rel=\"stylesheet\" type=\"text/css\" href=\"news.css?cQLJmfCAtx2wdZ34zW8g\">\n",
      "            <link rel=\"shortcut icon\" href=\"favicon.ico\">\n",
      "          <link rel=\"alternate\" type=\"application/rss+xml\" title=\"RSS\" href=\"rss\">\n",
      "        <title>Hacker News</title></head><body><center><table id=\"hnmain\" border=\"0\" cellpadding=\"0\" cellspacing=\"0\" width=\"85%\" bgcolor=\"#f6f6ef\">\n",
      "        <tr><td bgcolor=\"#ff6600\"><table border=\"0\" cellpadding=\"0\" cellspacing=\"0\" width=\"100%\" style=\"padding:2px\"><tr><td style=\"width:18px;padding-right:4px\"><a href=\"https://news.ycombinator.com\"><img src=\"y18.gif\" width=\"18\" height=\"18\" style=\"border:1px white solid;\"></a></td>\n",
      "                  <td style=\"line-height:12pt; height:10px;\"><span class=\"pagetop\"><b class=\"hnname\"><a href=\"news\">Hacker News</a></b>\n",
      "              <a href=\"newest\">new</a> | <a href=\"front\">more</a> | <a href=\"newcomments\">comments</a> | <a href=\"ask\">ask</a> | <a href=\"show\">show</a> | <a href=\"jobs\">jobs</a> | <a href=\"submit\">submit</a>            </span></td><td style=\"text-align:right;padding-right:4px;\"><span class=\"pagetop\">\n",
      "                              <a href=\"login?goto=news\">login</a>\n",
      "                          </span></td>\n",
      "              </tr></table></td></tr>\n",
      "<tr id=\"pagespace\" title=\"\" style=\"height:10px\"></tr><tr><td><table border=\"0\" cellpadding=\"0\" cellspacing=\"0\" class=\"itemlist\">\n",
      "              <tr class='athing' id='19233124'>\n",
      "      <td align=\"right\" valign=\"top\" class=\"title\"><span class=\"rank\">1.</span></td>      <td valign=\"top\" class=\"votelinks\"><center><a id='up_19233124' href='vote?id=19233124&amp;how=up&amp;goto=news'><div class='votearrow' title='upvote'></div></a></center></td><td class=\"title\"><a href=\"https://github.com/amzeratul/halley\" class=\"storylink\">Halley: Lightweight Game Engine Written in C++14</a><span class=\"sitebit comhead\"> (<a href=\"from?site=github.com\"><span class=\"sitestr\">github.com</span></a>)</span></td></tr><tr><td colspan=\"2\"></td><td class=\"subtext\">\n",
      "        <span class=\"score\" id=\"score_19233124\">103 points</span> by <a href=\"user?id=ingve\" class=\"hnuser\">ingve</a> <span class=\"age\"><a href=\"item?id=19233124\">3 hours ago</a></span> <span id=\"unv_19233124\"></span> | <a href=\"hide?id=19233124&amp;goto=news\">hide</a> | <a href=\"item?id=19233124\">10&nbsp;comments</a>              </td></tr>\n",
      "      <tr class=\"spacer\" style=\"height:5px\"></tr>\n",
      "                <tr class='athing' id='19233284'>\n",
      "      <td align=\"right\" valign=\"top\" class=\"title\"><span class=\"rank\">2.</span></td>      <td valign=\"top\" class=\"votelinks\"><center><a id='up_19233284' href='vote?id=19233284&amp;how=up&amp;goto=news'><div class='votearrow' title='upvote'></div></a></center></td><td class=\"title\"><a href=\"https://www.nytimes.com/2019/02/22/us/military-water-toxic-chemicals.html\" class=\"storylink\">Toxic ‘Forever Chemicals’ in Drinking Water Leave Military Families Reeling</a><span class=\"sitebit comhead\"> (<a href=\"from?site=nytimes.com\"><span class=\"sitestr\">nytimes.com</span></a>)</span></td></tr><tr><td colspan=\"2\"></td><td class=\"subtext\">\n",
      "        <span class=\"score\" id=\"score_19233284\">64 points</span> by <a href=\"user?id=longdefeat\" class=\"hnuser\">longdefeat</a> <span class=\"age\"><a href=\"item?id=19233284\">2 hours ago</a></span> <span id=\"unv_19233284\"></span> | <a href=\"hide?id=19233284&amp;goto=news\">hide</a> | <a href=\"item?id=19233284\">37&nbsp;comments</a>              </td></tr>\n",
      "      <tr class=\"spacer\" style=\"height:5px\"></tr>\n",
      "                <tr class='athing' id='19233637'>\n",
      "      <td align=\"right\" valign=\"top\" class=\"title\"><span class=\"rank\">3.</span></td>      <td valign=\"top\" class=\"votelinks\"><center><a id='up_19233637' href='vote?id=19233637&amp;how=up&amp;goto=news'><div class='votearrow' title='upvote'></div></a></center></td><td class=\"title\"><a href=\"https://nosir.github.io/cleave.js/\" class=\"storylink\">Cleave.js – Format Input Text Content When You Are Typing</a><span class=\"sitebit comhead\"> (<a href=\"from?site=nosir.github.io\"><span class=\"sitestr\">nosir.github.io</span></a>)</span></td></tr><tr><td colspan=\"2\"></td><td class=\"subtext\">\n",
      "        <span class=\"score\" id=\"score_19233637\">19 points</span> by <a href=\"user?id=octosphere\" class=\"hnuser\">octosphere</a> <span class=\"age\"><a href=\"item?id=19233637\">42 minutes ago</a></span> <span id=\"unv_19233637\"></span> | <a href=\"hide?id=19233637&amp;goto=news\">hide</a> | <a href=\"item?id=19233637\">2&nbsp;comments</a>              </td></tr>\n",
      "      <tr class=\"spacer\" style=\"height:5px\"></tr>\n",
      "                <tr class='athing' id='19233247'>\n",
      "      <td align=\"right\" valign=\"top\" class=\"title\"><span class=\"rank\">4.</span></td>      <td valign=\"top\" class=\"votelinks\"><center><a id='up_19233247' href='vote?id=19233247&amp;how=up&amp;goto=news'><div class='votearrow' title='upvote'></div></a></center></td><td class=\"title\"><a href=\"https://thefrailestthing.com/2018/06/15/were-reading-fahrenheit-451-wrong/\" class=\"storylink\">We’re Reading Fahrenheit 451 Wrong</a><span class=\"sitebit comhead\"> (<a href=\"from?site=thefrailestthing.com\"><span class=\"sitestr\">thefrailestthing.com</span></a>)</span></td></tr><tr><td colspan=\"2\"></td><td class=\"subtext\">\n",
      "        <span class=\"score\" id=\"score_19233247\">59 points</span> by <a href=\"user?id=longdefeat\" class=\"hnuser\">longdefeat</a> <span class=\"age\"><a href=\"item?id=19233247\">2 hours ago</a></span> <span id=\"unv_19233247\"></span> | <a href=\"hide?id=19233247&amp;goto=news\">hide</a> | <a href=\"item?id=19233247\">21&nbsp;comments</a>              </td></tr>\n",
      "      <tr class=\"spacer\" style=\"height:5px\"></tr>\n",
      "                <tr class='athing' id='19233401'>\n",
      "      <td align=\"right\" valign=\"top\" class=\"title\"><span class=\"rank\">5.</span></td>      <td valign=\"top\" class=\"votelinks\"><center><a id='up_19233401' href='vote?id=19233401&amp;how=up&amp;goto=news'><div class='votearrow' title='upvote'></div></a></center></td><td class=\"title\"><a href=\"https://insidebigdata.com/2019/02/20/best-of-arxiv-org-for-ai-machine-learning-and-deep-learning-january-2019/\" class=\"storylink\">Best of Arxiv.org for AI, Machine Learning, and Deep Learning – January 2019</a><span class=\"sitebit comhead\"> (<a href=\"from?site=insidebigdata.com\"><span class=\"sitestr\">insidebigdata.com</span></a>)</span></td></tr><tr><td colspan=\"2\"></td><td class=\"subtext\">\n",
      "        <span class=\"score\" id=\"score_19233401\">19 points</span> by <a href=\"user?id=ghosthamlet\" class=\"hnuser\">ghosthamlet</a> <span class=\"age\"><a href=\"item?id=19233401\">1 hour ago</a></span> <span id=\"unv_19233401\"></span> | <a href=\"hide?id=19233401&amp;goto=news\">hide</a> | <a href=\"item?id=19233401\">1&nbsp;comment</a>              </td></tr>\n",
      "      <tr class=\"spacer\" style=\"height:5px\"></tr>\n",
      "                <tr class='athing' id='19208766'>\n",
      "      <td align=\"right\" valign=\"top\" class=\"title\"><span class=\"rank\">6.</span></td>      <td valign=\"top\" class=\"votelinks\"><center><a id='up_19208766' href='vote?id=19208766&amp;how=up&amp;goto=news'><div class='votearrow' title='upvote'></div></a></center></td><td class=\"title\"><a href=\"https://www.eff.org/effector/32/3\" class=\"storylink\">Trolls Are Real</a><span class=\"sitebit comhead\"> (<a href=\"from?site=eff.org\"><span class=\"sitestr\">eff.org</span></a>)</span></td></tr><tr><td colspan=\"2\"></td><td class=\"subtext\">\n",
      "        <span class=\"score\" id=\"score_19208766\">141 points</span> by <a href=\"user?id=lelf\" class=\"hnuser\">lelf</a> <span class=\"age\"><a href=\"item?id=19208766\">6 hours ago</a></span> <span id=\"unv_19208766\"></span> | <a href=\"hide?id=19208766&amp;goto=news\">hide</a> | <a href=\"item?id=19208766\">33&nbsp;comments</a>              </td></tr>\n",
      "      <tr class=\"spacer\" style=\"height:5px\"></tr>\n",
      "                <tr class='athing' id='19233456'>\n",
      "      <td align=\"right\" valign=\"top\" class=\"title\"><span class=\"rank\">7.</span></td>      <td valign=\"top\" class=\"votelinks\"><center><a id='up_19233456' href='vote?id=19233456&amp;how=up&amp;goto=news'><div class='votearrow' title='upvote'></div></a></center></td><td class=\"title\"><a href=\"https://blog.petrzemek.net/2019/02/22/even-feature-that-you-do-not-use-can-bite-you/\" class=\"storylink\">Python: Even a Feature That You Do Not Use Can Bite You</a><span class=\"sitebit comhead\"> (<a href=\"from?site=petrzemek.net\"><span class=\"sitestr\">petrzemek.net</span></a>)</span></td></tr><tr><td colspan=\"2\"></td><td class=\"subtext\">\n",
      "        <span class=\"score\" id=\"score_19233456\">32 points</span> by <a href=\"user?id=ingve\" class=\"hnuser\">ingve</a> <span class=\"age\"><a href=\"item?id=19233456\">1 hour ago</a></span> <span id=\"unv_19233456\"></span> | <a href=\"hide?id=19233456&amp;goto=news\">hide</a> | <a href=\"item?id=19233456\">22&nbsp;comments</a>              </td></tr>\n",
      "      <tr class=\"spacer\" style=\"height:5px\"></tr>\n",
      "                <tr class='athing' id='19232824'>\n",
      "      <td align=\"right\" valign=\"top\" class=\"title\"><span class=\"rank\">8.</span></td>      <td valign=\"top\" class=\"votelinks\"><center><a id='up_19232824' href='vote?id=19232824&amp;how=up&amp;goto=news'><div class='votearrow' title='upvote'></div></a></center></td><td class=\"title\"><a href=\"https://ucidatascienceinitiative.github.io/IntroToJulia/Html/WhyJulia\" class=\"storylink\">Why Does Julia Work So Well?</a><span class=\"sitebit comhead\"> (<a href=\"from?site=ucidatascienceinitiative.github.io\"><span class=\"sitestr\">ucidatascienceinitiative.github.io</span></a>)</span></td></tr><tr><td colspan=\"2\"></td><td class=\"subtext\">\n",
      "        <span class=\"score\" id=\"score_19232824\">65 points</span> by <a href=\"user?id=Tomte\" class=\"hnuser\">Tomte</a> <span class=\"age\"><a href=\"item?id=19232824\">4 hours ago</a></span> <span id=\"unv_19232824\"></span> | <a href=\"hide?id=19232824&amp;goto=news\">hide</a> | <a href=\"item?id=19232824\">39&nbsp;comments</a>              </td></tr>\n",
      "      <tr class=\"spacer\" style=\"height:5px\"></tr>\n",
      "                <tr class='athing' id='19232068'>\n",
      "      <td align=\"right\" valign=\"top\" class=\"title\"><span class=\"rank\">9.</span></td>      <td valign=\"top\" class=\"votelinks\"><center><a id='up_19232068' href='vote?id=19232068&amp;how=up&amp;goto=news'><div class='votearrow' title='upvote'></div></a></center></td><td class=\"title\"><a href=\"https://beautifulracket.com/appendix/why-lop-why-racket.html\" class=\"storylink\">Why Language-Oriented Programming? Why Racket?</a><span class=\"sitebit comhead\"> (<a href=\"from?site=beautifulracket.com\"><span class=\"sitestr\">beautifulracket.com</span></a>)</span></td></tr><tr><td colspan=\"2\"></td><td class=\"subtext\">\n",
      "        <span class=\"score\" id=\"score_19232068\">184 points</span> by <a href=\"user?id=jessealama\" class=\"hnuser\">jessealama</a> <span class=\"age\"><a href=\"item?id=19232068\">9 hours ago</a></span> <span id=\"unv_19232068\"></span> | <a href=\"hide?id=19232068&amp;goto=news\">hide</a> | <a href=\"item?id=19232068\">49&nbsp;comments</a>              </td></tr>\n",
      "      <tr class=\"spacer\" style=\"height:5px\"></tr>\n",
      "                <tr class='athing' id='19233289'>\n",
      "      <td align=\"right\" valign=\"top\" class=\"title\"><span class=\"rank\">10.</span></td>      <td valign=\"top\" class=\"votelinks\"><center><a id='up_19233289' href='vote?id=19233289&amp;how=up&amp;goto=news'><div class='votearrow' title='upvote'></div></a></center></td><td class=\"title\"><a href=\"http://berkshirehathaway.com/letters/2018ltr.pdf\" class=\"storylink\">Berkshire Hathaway 2018 Annual Shareholder Letter [pdf]</a><span class=\"sitebit comhead\"> (<a href=\"from?site=berkshirehathaway.com\"><span class=\"sitestr\">berkshirehathaway.com</span></a>)</span></td></tr><tr><td colspan=\"2\"></td><td class=\"subtext\">\n",
      "        <span class=\"score\" id=\"score_19233289\">39 points</span> by <a href=\"user?id=vladd\" class=\"hnuser\">vladd</a> <span class=\"age\"><a href=\"item?id=19233289\">2 hours ago</a></span> <span id=\"unv_19233289\"></span> | <a href=\"hide?id=19233289&amp;goto=news\">hide</a> | <a href=\"item?id=19233289\">20&nbsp;comments</a>              </td></tr>\n",
      "      <tr class=\"spacer\" style=\"height:5px\"></tr>\n",
      "                <tr class='athing' id='19233466'>\n",
      "      <td align=\"right\" valign=\"top\" class=\"title\"><span class=\"rank\">11.</span></td>      <td valign=\"top\" class=\"votelinks\"><center><a id='up_19233466' href='vote?id=19233466&amp;how=up&amp;goto=news'><div class='votearrow' title='upvote'></div></a></center></td><td class=\"title\"><a href=\"https://www.alexdebrie.com/posts/aws-api-performance-comparison/\" class=\"storylink\" rel=\"nofollow\">AWS API Performance Comparison: Serverless vs. Containers</a><span class=\"sitebit comhead\"> (<a href=\"from?site=alexdebrie.com\"><span class=\"sitestr\">alexdebrie.com</span></a>)</span></td></tr><tr><td colspan=\"2\"></td><td class=\"subtext\">\n",
      "        <span class=\"score\" id=\"score_19233466\">6 points</span> by <a href=\"user?id=abd12\" class=\"hnuser\">abd12</a> <span class=\"age\"><a href=\"item?id=19233466\">1 hour ago</a></span> <span id=\"unv_19233466\"></span> | <a href=\"hide?id=19233466&amp;goto=news\">hide</a> | <a href=\"item?id=19233466\">1&nbsp;comment</a>              </td></tr>\n",
      "      <tr class=\"spacer\" style=\"height:5px\"></tr>\n",
      "                <tr class='athing' id='19232343'>\n",
      "      <td align=\"right\" valign=\"top\" class=\"title\"><span class=\"rank\">12.</span></td>      <td valign=\"top\" class=\"votelinks\"><center><a id='up_19232343' href='vote?id=19232343&amp;how=up&amp;goto=news'><div class='votearrow' title='upvote'></div></a></center></td><td class=\"title\"><a href=\"http://nautil.us/issue/69/patterns/the-impossible-mathematics-of-the-real-world-rp\" class=\"storylink\">Impossible Mathematics of the Real World (2017)</a><span class=\"sitebit comhead\"> (<a href=\"from?site=nautil.us\"><span class=\"sitestr\">nautil.us</span></a>)</span></td></tr><tr><td colspan=\"2\"></td><td class=\"subtext\">\n",
      "        <span class=\"score\" id=\"score_19232343\">72 points</span> by <a href=\"user?id=tomerv\" class=\"hnuser\">tomerv</a> <span class=\"age\"><a href=\"item?id=19232343\">7 hours ago</a></span> <span id=\"unv_19232343\"></span> | <a href=\"hide?id=19232343&amp;goto=news\">hide</a> | <a href=\"item?id=19232343\">7&nbsp;comments</a>              </td></tr>\n",
      "      <tr class=\"spacer\" style=\"height:5px\"></tr>\n",
      "                <tr class='athing' id='19207172'>\n",
      "      <td align=\"right\" valign=\"top\" class=\"title\"><span class=\"rank\">13.</span></td>      <td valign=\"top\" class=\"votelinks\"><center><a id='up_19207172' href='vote?id=19207172&amp;how=up&amp;goto=news'><div class='votearrow' title='upvote'></div></a></center></td><td class=\"title\"><a href=\"http://nautil.us/issue/69/patterns/the-case-for-leaving-city-rats-alone-rp\" class=\"storylink\">The Case for Leaving City Rats Alone (2016)</a><span class=\"sitebit comhead\"> (<a href=\"from?site=nautil.us\"><span class=\"sitestr\">nautil.us</span></a>)</span></td></tr><tr><td colspan=\"2\"></td><td class=\"subtext\">\n",
      "        <span class=\"score\" id=\"score_19207172\">22 points</span> by <a href=\"user?id=dnetesn\" class=\"hnuser\">dnetesn</a> <span class=\"age\"><a href=\"item?id=19207172\">5 hours ago</a></span> <span id=\"unv_19207172\"></span> | <a href=\"hide?id=19207172&amp;goto=news\">hide</a> | <a href=\"item?id=19207172\">3&nbsp;comments</a>              </td></tr>\n",
      "      <tr class=\"spacer\" style=\"height:5px\"></tr>\n",
      "                <tr class='athing' id='19231088'>\n",
      "      <td align=\"right\" valign=\"top\" class=\"title\"><span class=\"rank\">14.</span></td>      <td valign=\"top\" class=\"votelinks\"><center><a id='up_19231088' href='vote?id=19231088&amp;how=up&amp;goto=news'><div class='votearrow' title='upvote'></div></a></center></td><td class=\"title\"><a href=\"https://www.economist.com/books-and-arts/2019/02/23/life-and-society-are-increasingly-governed-by-numbers\" class=\"storylink\">Life and society are increasingly governed by numbers</a><span class=\"sitebit comhead\"> (<a href=\"from?site=economist.com\"><span class=\"sitestr\">economist.com</span></a>)</span></td></tr><tr><td colspan=\"2\"></td><td class=\"subtext\">\n",
      "        <span class=\"score\" id=\"score_19231088\">153 points</span> by <a href=\"user?id=jkuria\" class=\"hnuser\">jkuria</a> <span class=\"age\"><a href=\"item?id=19231088\">14 hours ago</a></span> <span id=\"unv_19231088\"></span> | <a href=\"hide?id=19231088&amp;goto=news\">hide</a> | <a href=\"item?id=19231088\">69&nbsp;comments</a>              </td></tr>\n",
      "      <tr class=\"spacer\" style=\"height:5px\"></tr>\n",
      "                <tr class='athing' id='19233045'>\n",
      "      <td align=\"right\" valign=\"top\" class=\"title\"><span class=\"rank\">15.</span></td>      <td valign=\"top\" class=\"votelinks\"><center><a id='up_19233045' href='vote?id=19233045&amp;how=up&amp;goto=news'><div class='votearrow' title='upvote'></div></a></center></td><td class=\"title\"><a href=\"https://lists.freedesktop.org/archives/mesa-dev/2019-February/215576.html\" class=\"storylink\">New OpenGL Driver for Intel Gen8 GPUs Merged into Mesa</a><span class=\"sitebit comhead\"> (<a href=\"from?site=freedesktop.org\"><span class=\"sitestr\">freedesktop.org</span></a>)</span></td></tr><tr><td colspan=\"2\"></td><td class=\"subtext\">\n",
      "        <span class=\"score\" id=\"score_19233045\">10 points</span> by <a href=\"user?id=obl\" class=\"hnuser\">obl</a> <span class=\"age\"><a href=\"item?id=19233045\">3 hours ago</a></span> <span id=\"unv_19233045\"></span> | <a href=\"hide?id=19233045&amp;goto=news\">hide</a> | <a href=\"item?id=19233045\">5&nbsp;comments</a>              </td></tr>\n",
      "      <tr class=\"spacer\" style=\"height:5px\"></tr>\n",
      "                <tr class='athing' id='19227383'>\n",
      "      <td align=\"right\" valign=\"top\" class=\"title\"><span class=\"rank\">16.</span></td>      <td valign=\"top\" class=\"votelinks\"><center><a id='up_19227383' href='vote?id=19227383&amp;how=up&amp;goto=news'><div class='votearrow' title='upvote'></div></a></center></td><td class=\"title\"><a href=\"https://www.topic.com/financial-windfalls-15-stories-of-the-money-that-changed-everything\" class=\"storylink\">Stories of Financial Windfalls</a><span class=\"sitebit comhead\"> (<a href=\"from?site=topic.com\"><span class=\"sitestr\">topic.com</span></a>)</span></td></tr><tr><td colspan=\"2\"></td><td class=\"subtext\">\n",
      "        <span class=\"score\" id=\"score_19227383\">25 points</span> by <a href=\"user?id=prostoalex\" class=\"hnuser\">prostoalex</a> <span class=\"age\"><a href=\"item?id=19227383\">6 hours ago</a></span> <span id=\"unv_19227383\"></span> | <a href=\"hide?id=19227383&amp;goto=news\">hide</a> | <a href=\"item?id=19227383\">3&nbsp;comments</a>              </td></tr>\n",
      "      <tr class=\"spacer\" style=\"height:5px\"></tr>\n",
      "                <tr class='athing' id='19233215'>\n",
      "      <td align=\"right\" valign=\"top\" class=\"title\"><span class=\"rank\">17.</span></td>      <td valign=\"top\" class=\"votelinks\"><center><a id='up_19233215' href='vote?id=19233215&amp;how=up&amp;goto=news'><div class='votearrow' title='upvote'></div></a></center></td><td class=\"title\"><a href=\"https://arxiv.org/abs/1509.02955\" class=\"storylink\" rel=\"nofollow\">Dynamics at the Boundary of Game Theory and Distributed Computing</a><span class=\"sitebit comhead\"> (<a href=\"from?site=arxiv.org\"><span class=\"sitestr\">arxiv.org</span></a>)</span></td></tr><tr><td colspan=\"2\"></td><td class=\"subtext\">\n",
      "        <span class=\"score\" id=\"score_19233215\">7 points</span> by <a href=\"user?id=tctjr\" class=\"hnuser\">tctjr</a> <span class=\"age\"><a href=\"item?id=19233215\">2 hours ago</a></span> <span id=\"unv_19233215\"></span> | <a href=\"hide?id=19233215&amp;goto=news\">hide</a> | <a href=\"item?id=19233215\">discuss</a>              </td></tr>\n",
      "      <tr class=\"spacer\" style=\"height:5px\"></tr>\n",
      "                <tr class='athing' id='19233208'>\n",
      "      <td align=\"right\" valign=\"top\" class=\"title\"><span class=\"rank\">18.</span></td>      <td valign=\"top\" class=\"votelinks\"><center><a id='up_19233208' href='vote?id=19233208&amp;how=up&amp;goto=news'><div class='votearrow' title='upvote'></div></a></center></td><td class=\"title\"><a href=\"https://www.journaldulapin.com/2019/01/21/power-mac-g5-sdk/\" class=\"storylink\" rel=\"nofollow\">The SDK Powermac G5 for the Xbox 360</a><span class=\"sitebit comhead\"> (<a href=\"from?site=journaldulapin.com\"><span class=\"sitestr\">journaldulapin.com</span></a>)</span></td></tr><tr><td colspan=\"2\"></td><td class=\"subtext\">\n",
      "        <span class=\"score\" id=\"score_19233208\">4 points</span> by <a href=\"user?id=bluedino\" class=\"hnuser\">bluedino</a> <span class=\"age\"><a href=\"item?id=19233208\">2 hours ago</a></span> <span id=\"unv_19233208\"></span> | <a href=\"hide?id=19233208&amp;goto=news\">hide</a> | <a href=\"item?id=19233208\">discuss</a>              </td></tr>\n",
      "      <tr class=\"spacer\" style=\"height:5px\"></tr>\n",
      "                <tr class='athing' id='19231966'>\n",
      "      <td align=\"right\" valign=\"top\" class=\"title\"><span class=\"rank\">19.</span></td>      <td valign=\"top\" class=\"votelinks\"><center><a id='up_19231966' href='vote?id=19231966&amp;how=up&amp;goto=news'><div class='votearrow' title='upvote'></div></a></center></td><td class=\"title\"><a href=\"https://www.youtube.com/watch?v=Hpu5IxLIPR8\" class=\"storylink\">Software Piracy Birthed an Underground Art Scene (2018) [video]</a><span class=\"sitebit comhead\"> (<a href=\"from?site=youtube.com\"><span class=\"sitestr\">youtube.com</span></a>)</span></td></tr><tr><td colspan=\"2\"></td><td class=\"subtext\">\n",
      "        <span class=\"score\" id=\"score_19231966\">68 points</span> by <a href=\"user?id=bane\" class=\"hnuser\">bane</a> <span class=\"age\"><a href=\"item?id=19231966\">9 hours ago</a></span> <span id=\"unv_19231966\"></span> | <a href=\"hide?id=19231966&amp;goto=news\">hide</a> | <a href=\"item?id=19231966\">12&nbsp;comments</a>              </td></tr>\n",
      "      <tr class=\"spacer\" style=\"height:5px\"></tr>\n",
      "                <tr class='athing' id='19231322'>\n",
      "      <td align=\"right\" valign=\"top\" class=\"title\"><span class=\"rank\">20.</span></td>      <td valign=\"top\" class=\"votelinks\"><center><a id='up_19231322' href='vote?id=19231322&amp;how=up&amp;goto=news'><div class='votearrow' title='upvote'></div></a></center></td><td class=\"title\"><a href=\"http://mcpp.sourceforge.net\" class=\"storylink\">Mcpp: A Portable C Preprocessor (2008)</a><span class=\"sitebit comhead\"> (<a href=\"from?site=sourceforge.net\"><span class=\"sitestr\">sourceforge.net</span></a>)</span></td></tr><tr><td colspan=\"2\"></td><td class=\"subtext\">\n",
      "        <span class=\"score\" id=\"score_19231322\">30 points</span> by <a href=\"user?id=blacksqr\" class=\"hnuser\">blacksqr</a> <span class=\"age\"><a href=\"item?id=19231322\">10 hours ago</a></span> <span id=\"unv_19231322\"></span> | <a href=\"hide?id=19231322&amp;goto=news\">hide</a> | <a href=\"item?id=19231322\">5&nbsp;comments</a>              </td></tr>\n",
      "      <tr class=\"spacer\" style=\"height:5px\"></tr>\n",
      "                <tr class='athing' id='19231567'>\n",
      "      <td align=\"right\" valign=\"top\" class=\"title\"><span class=\"rank\">21.</span></td>      <td valign=\"top\" class=\"votelinks\"><center><a id='up_19231567' href='vote?id=19231567&amp;how=up&amp;goto=news'><div class='votearrow' title='upvote'></div></a></center></td><td class=\"title\"><a href=\"https://twitter.com/sama/status/1096822724217827328\" class=\"storylink\">Sam Altman: Bay Area is no longer the obvious place for startups</a><span class=\"sitebit comhead\"> (<a href=\"from?site=twitter.com\"><span class=\"sitestr\">twitter.com</span></a>)</span></td></tr><tr><td colspan=\"2\"></td><td class=\"subtext\">\n",
      "        <span class=\"score\" id=\"score_19231567\">279 points</span> by <a href=\"user?id=everbody\" class=\"hnuser\">everbody</a> <span class=\"age\"><a href=\"item?id=19231567\">11 hours ago</a></span> <span id=\"unv_19231567\"></span> | <a href=\"hide?id=19231567&amp;goto=news\">hide</a> | <a href=\"item?id=19231567\">184&nbsp;comments</a>              </td></tr>\n",
      "      <tr class=\"spacer\" style=\"height:5px\"></tr>\n",
      "                <tr class='athing' id='19232144'>\n",
      "      <td align=\"right\" valign=\"top\" class=\"title\"><span class=\"rank\">22.</span></td>      <td valign=\"top\" class=\"votelinks\"><center><a id='up_19232144' href='vote?id=19232144&amp;how=up&amp;goto=news'><div class='votearrow' title='upvote'></div></a></center></td><td class=\"title\"><a href=\"https://www.machinelearningplus.com/machine-learning/caret-package/\" class=\"storylink\">Caret Package – A Practical Guide to Machine Learning in R</a><span class=\"sitebit comhead\"> (<a href=\"from?site=machinelearningplus.com\"><span class=\"sitestr\">machinelearningplus.com</span></a>)</span></td></tr><tr><td colspan=\"2\"></td><td class=\"subtext\">\n",
      "        <span class=\"score\" id=\"score_19232144\">33 points</span> by <a href=\"user?id=selva86\" class=\"hnuser\">selva86</a> <span class=\"age\"><a href=\"item?id=19232144\">8 hours ago</a></span> <span id=\"unv_19232144\"></span> | <a href=\"hide?id=19232144&amp;goto=news\">hide</a> | <a href=\"item?id=19232144\">2&nbsp;comments</a>              </td></tr>\n",
      "      <tr class=\"spacer\" style=\"height:5px\"></tr>\n",
      "                <tr class='athing' id='19223188'>\n",
      "      <td align=\"right\" valign=\"top\" class=\"title\"><span class=\"rank\">23.</span></td>      <td valign=\"top\" class=\"votelinks\"><center><a id='up_19223188' href='vote?id=19223188&amp;how=up&amp;goto=news'><div class='votearrow' title='upvote'></div></a></center></td><td class=\"title\"><a href=\"https://www.wired.com/story/when-algorithms-think-you-want-to-die/\" class=\"storylink\">When Algorithms Think You Want to Die</a><span class=\"sitebit comhead\"> (<a href=\"from?site=wired.com\"><span class=\"sitestr\">wired.com</span></a>)</span></td></tr><tr><td colspan=\"2\"></td><td class=\"subtext\">\n",
      "        <span class=\"score\" id=\"score_19223188\">89 points</span> by <a href=\"user?id=iron0013\" class=\"hnuser\">iron0013</a> <span class=\"age\"><a href=\"item?id=19223188\">13 hours ago</a></span> <span id=\"unv_19223188\"></span> | <a href=\"hide?id=19223188&amp;goto=news\">hide</a> | <a href=\"item?id=19223188\">54&nbsp;comments</a>              </td></tr>\n",
      "      <tr class=\"spacer\" style=\"height:5px\"></tr>\n",
      "                <tr class='athing' id='19228744'>\n",
      "      <td align=\"right\" valign=\"top\" class=\"title\"><span class=\"rank\">24.</span></td>      <td valign=\"top\" class=\"votelinks\"><center><a id='up_19228744' href='vote?id=19228744&amp;how=up&amp;goto=news'><div class='votearrow' title='upvote'></div></a></center></td><td class=\"title\"><a href=\"https://www.reuters.com/article/facebook-new-york/new-york-governor-cuomo-orders-probe-into-facebook-access-to-personal-data-idUSKCN1QB2BK\" class=\"storylink\">New York governor orders probe into Facebook access to data from other apps</a><span class=\"sitebit comhead\"> (<a href=\"from?site=reuters.com\"><span class=\"sitestr\">reuters.com</span></a>)</span></td></tr><tr><td colspan=\"2\"></td><td class=\"subtext\">\n",
      "        <span class=\"score\" id=\"score_19228744\">385 points</span> by <a href=\"user?id=tareqak\" class=\"hnuser\">tareqak</a> <span class=\"age\"><a href=\"item?id=19228744\">19 hours ago</a></span> <span id=\"unv_19228744\"></span> | <a href=\"hide?id=19228744&amp;goto=news\">hide</a> | <a href=\"item?id=19228744\">84&nbsp;comments</a>              </td></tr>\n",
      "      <tr class=\"spacer\" style=\"height:5px\"></tr>\n",
      "                <tr class='athing' id='19231573'>\n",
      "      <td align=\"right\" valign=\"top\" class=\"title\"><span class=\"rank\">25.</span></td>      <td valign=\"top\" class=\"votelinks\"><center><a id='up_19231573' href='vote?id=19231573&amp;how=up&amp;goto=news'><div class='votearrow' title='upvote'></div></a></center></td><td class=\"title\"><a href=\"https://mymodernmet.com/history-color-orange/\" class=\"storylink\">The Color Orange</a><span class=\"sitebit comhead\"> (<a href=\"from?site=mymodernmet.com\"><span class=\"sitestr\">mymodernmet.com</span></a>)</span></td></tr><tr><td colspan=\"2\"></td><td class=\"subtext\">\n",
      "        <span class=\"score\" id=\"score_19231573\">25 points</span> by <a href=\"user?id=flannery\" class=\"hnuser\">flannery</a> <span class=\"age\"><a href=\"item?id=19231573\">9 hours ago</a></span> <span id=\"unv_19231573\"></span> | <a href=\"hide?id=19231573&amp;goto=news\">hide</a> | <a href=\"item?id=19231573\">8&nbsp;comments</a>              </td></tr>\n",
      "      <tr class=\"spacer\" style=\"height:5px\"></tr>\n",
      "                <tr class='athing' id='19216448'>\n",
      "      <td align=\"right\" valign=\"top\" class=\"title\"><span class=\"rank\">26.</span></td>      <td valign=\"top\" class=\"votelinks\"><center><a id='up_19216448' href='vote?id=19216448&amp;how=up&amp;goto=news'><div class='votearrow' title='upvote'></div></a></center></td><td class=\"title\"><a href=\"http://nautil.us/issue/69/patterns/what-dark-matter-needs-are-new-kinds-of-experiments\" class=\"storylink\" rel=\"nofollow\">Dark Matter Needs New Kinds of Experiments</a><span class=\"sitebit comhead\"> (<a href=\"from?site=nautil.us\"><span class=\"sitestr\">nautil.us</span></a>)</span></td></tr><tr><td colspan=\"2\"></td><td class=\"subtext\">\n",
      "        <span class=\"score\" id=\"score_19216448\">3 points</span> by <a href=\"user?id=dnetesn\" class=\"hnuser\">dnetesn</a> <span class=\"age\"><a href=\"item?id=19216448\">2 hours ago</a></span> <span id=\"unv_19216448\"></span> | <a href=\"hide?id=19216448&amp;goto=news\">hide</a> | <a href=\"item?id=19216448\">discuss</a>              </td></tr>\n",
      "      <tr class=\"spacer\" style=\"height:5px\"></tr>\n",
      "                <tr class='athing' id='19232132'>\n",
      "      <td align=\"right\" valign=\"top\" class=\"title\"><span class=\"rank\">27.</span></td>      <td valign=\"top\" class=\"votelinks\"><center><a id='up_19232132' href='vote?id=19232132&amp;how=up&amp;goto=news'><div class='votearrow' title='upvote'></div></a></center></td><td class=\"title\"><a href=\"https://twitter.com/ashk4n/status/1099117028026118144\" class=\"storylink\">Facebook Planned to Spy on Android Phone Users, Internal Emails Reveal</a><span class=\"sitebit comhead\"> (<a href=\"from?site=twitter.com\"><span class=\"sitestr\">twitter.com</span></a>)</span></td></tr><tr><td colspan=\"2\"></td><td class=\"subtext\">\n",
      "        <span class=\"score\" id=\"score_19232132\">150 points</span> by <a href=\"user?id=DyslexicAtheist\" class=\"hnuser\">DyslexicAtheist</a> <span class=\"age\"><a href=\"item?id=19232132\">8 hours ago</a></span> <span id=\"unv_19232132\"></span> | <a href=\"hide?id=19232132&amp;goto=news\">hide</a> | <a href=\"item?id=19232132\">32&nbsp;comments</a>              </td></tr>\n",
      "      <tr class=\"spacer\" style=\"height:5px\"></tr>\n",
      "                <tr class='athing' id='19232725'>\n",
      "      <td align=\"right\" valign=\"top\" class=\"title\"><span class=\"rank\">28.</span></td>      <td></td><td class=\"title\"><a href=\"https://mino-games.workable.com/j/4B58AD66BE\" class=\"storylink\" rel=\"nofollow\">Mino Games (YC W11) Is Hiring a Lead Back End Engineer in Montreal, QC</a><span class=\"sitebit comhead\"> (<a href=\"from?site=workable.com\"><span class=\"sitestr\">workable.com</span></a>)</span></td></tr><tr><td colspan=\"2\"></td><td class=\"subtext\">\n",
      "        <span class=\"age\"><a href=\"item?id=19232725\">4 hours ago</a></span> | <a href=\"hide?id=19232725&amp;goto=news\">hide</a>      </td></tr>\n",
      "      <tr class=\"spacer\" style=\"height:5px\"></tr>\n",
      "                <tr class='athing' id='19232678'>\n",
      "      <td align=\"right\" valign=\"top\" class=\"title\"><span class=\"rank\">29.</span></td>      <td valign=\"top\" class=\"votelinks\"><center><a id='up_19232678' href='vote?id=19232678&amp;how=up&amp;goto=news'><div class='votearrow' title='upvote'></div></a></center></td><td class=\"title\"><a href=\"http://www.bloomberg.com/news/articles/2019-02-21/big-brother-billionaires-get-rich-as-china-watches-everyone\" class=\"storylink\">China’s surveillance state has created at least four billionaires</a><span class=\"sitebit comhead\"> (<a href=\"from?site=bloomberg.com\"><span class=\"sitestr\">bloomberg.com</span></a>)</span></td></tr><tr><td colspan=\"2\"></td><td class=\"subtext\">\n",
      "        <span class=\"score\" id=\"score_19232678\">47 points</span> by <a href=\"user?id=metaphysics\" class=\"hnuser\">metaphysics</a> <span class=\"age\"><a href=\"item?id=19232678\">5 hours ago</a></span> <span id=\"unv_19232678\"></span> | <a href=\"hide?id=19232678&amp;goto=news\">hide</a> | <a href=\"item?id=19232678\">36&nbsp;comments</a>              </td></tr>\n",
      "      <tr class=\"spacer\" style=\"height:5px\"></tr>\n",
      "                <tr class='athing' id='19227970'>\n",
      "      <td align=\"right\" valign=\"top\" class=\"title\"><span class=\"rank\">30.</span></td>      <td valign=\"top\" class=\"votelinks\"><center><a id='up_19227970' href='vote?id=19227970&amp;how=up&amp;goto=news'><div class='votearrow' title='upvote'></div></a></center></td><td class=\"title\"><a href=\"https://www.newstatesman.com/2019/02/%20john-ruskin-200-anniversary-to-see-clearly-book-power-seeing-exhibition-review\" class=\"storylink\">John Ruskin: A Prophet for Our Troubled Times</a><span class=\"sitebit comhead\"> (<a href=\"from?site=newstatesman.com\"><span class=\"sitestr\">newstatesman.com</span></a>)</span></td></tr><tr><td colspan=\"2\"></td><td class=\"subtext\">\n",
      "        <span class=\"score\" id=\"score_19227970\">22 points</span> by <a href=\"user?id=apollinaire\" class=\"hnuser\">apollinaire</a> <span class=\"age\"><a href=\"item?id=19227970\">9 hours ago</a></span> <span id=\"unv_19227970\"></span> | <a href=\"hide?id=19227970&amp;goto=news\">hide</a> | <a href=\"item?id=19227970\">discuss</a>              </td></tr>\n",
      "      <tr class=\"spacer\" style=\"height:5px\"></tr>\n",
      "            <tr class=\"morespace\" style=\"height:10px\"></tr><tr><td colspan=\"2\"></td><td class=\"title\"><a href=\"news?p=2\" class=\"morelink\" rel=\"nofollow\">More</a></td></tr>\n",
      "  </table>\n",
      "</td></tr>\n",
      "<tr><td><img src=\"s.gif\" height=\"10\" width=\"0\"><table width=\"100%\" cellspacing=\"0\" cellpadding=\"1\"><tr><td bgcolor=\"#ff6600\"></td></tr></table><br><center><a href=\"https://www.ycombinator.com/apply/\">\n",
      "        Applications are open for YC Summer 2019\n",
      "      </a></center><br><center><span class=\"yclinks\"><a href=\"newsguidelines.html\">Guidelines</a>\n",
      "        | <a href=\"newsfaq.html\">FAQ</a>\n",
      "        | <a href=\"mailto:hn@ycombinator.com\">Support</a>\n",
      "        | <a href=\"https://github.com/HackerNews/API\">API</a>\n",
      "        | <a href=\"security.html\">Security</a>\n",
      "        | <a href=\"lists\">Lists</a>\n",
      "        | <a href=\"bookmarklet.html\" rel=\"nofollow\">Bookmarklet</a>\n",
      "        | <a href=\"http://www.ycombinator.com/legal/\">Legal</a>\n",
      "        | <a href=\"http://www.ycombinator.com/apply/\">Apply to YC</a>\n",
      "        | <a href=\"mailto:hn@ycombinator.com\">Contact</a></span><br><br><form method=\"get\" action=\"//hn.algolia.com/\">Search:\n",
      "          <input type=\"text\" name=\"q\" value=\"\" size=\"17\" autocorrect=\"off\" spellcheck=\"false\" autocapitalize=\"off\" autocomplete=\"false\"></form>\n",
      "            </center></td></tr>\n",
      "      </table></center></body><script type='text/javascript' src='hn.js?cQLJmfCAtx2wdZ34zW8g'></script>\n",
      "  </html>\n",
      "\n"
     ]
    }
   ],
   "source": [
    "\n",
    "\n",
    "import requests\n",
    "\n",
    "# Fetch a web page\n",
    "r = requests.get(\"https://news.ycombinator.com\")\n",
    "print(r.text)"
   ]
  },
  {
   "cell_type": "code",
   "execution_count": 4,
   "metadata": {},
   "outputs": [
    {
     "name": "stdout",
     "output_type": "stream",
     "text": [
      "\n",
      "            \n",
      "          \n",
      "        Hacker News\n",
      "        \n",
      "                  Hacker News\n",
      "              new | more | comments | ask | show | jobs | submit            \n",
      "                              login\n",
      "                          \n",
      "              \n",
      "\n",
      "              \n",
      "      1.      Halley: Lightweight Game Engine Written in C++14 (github.com)\n",
      "        103 points by ingve 3 hours ago  | hide | 10&nbsp;comments              \n",
      "      \n",
      "                \n",
      "      2.      Toxic ‘Forever Chemicals’ in Drinking Water Leave Military Families Reeling (nytimes.com)\n",
      "        64 points by longdefeat 2 hours ago  | hide | 37&nbsp;comments              \n",
      "      \n",
      "                \n",
      "      3.      Cleave.js – Format Input Text Content When You Are Typing (nosir.github.io)\n",
      "        19 points by octosphere 42 minutes ago  | hide | 2&nbsp;comments              \n",
      "      \n",
      "                \n",
      "      4.      We’re Reading Fahrenheit 451 Wrong (thefrailestthing.com)\n",
      "        59 points by longdefeat 2 hours ago  | hide | 21&nbsp;comments              \n",
      "      \n",
      "                \n",
      "      5.      Best of Arxiv.org for AI, Machine Learning, and Deep Learning – January 2019 (insidebigdata.com)\n",
      "        19 points by ghosthamlet 1 hour ago  | hide | 1&nbsp;comment              \n",
      "      \n",
      "                \n",
      "      6.      Trolls Are Real (eff.org)\n",
      "        141 points by lelf 6 hours ago  | hide | 33&nbsp;comments              \n",
      "      \n",
      "                \n",
      "      7.      Python: Even a Feature That You Do Not Use Can Bite You (petrzemek.net)\n",
      "        32 points by ingve 1 hour ago  | hide | 22&nbsp;comments              \n",
      "      \n",
      "                \n",
      "      8.      Why Does Julia Work So Well? (ucidatascienceinitiative.github.io)\n",
      "        65 points by Tomte 4 hours ago  | hide | 39&nbsp;comments              \n",
      "      \n",
      "                \n",
      "      9.      Why Language-Oriented Programming? Why Racket? (beautifulracket.com)\n",
      "        184 points by jessealama 9 hours ago  | hide | 49&nbsp;comments              \n",
      "      \n",
      "                \n",
      "      10.      Berkshire Hathaway 2018 Annual Shareholder Letter [pdf] (berkshirehathaway.com)\n",
      "        39 points by vladd 2 hours ago  | hide | 20&nbsp;comments              \n",
      "      \n",
      "                \n",
      "      11.      AWS API Performance Comparison: Serverless vs. Containers (alexdebrie.com)\n",
      "        6 points by abd12 1 hour ago  | hide | 1&nbsp;comment              \n",
      "      \n",
      "                \n",
      "      12.      Impossible Mathematics of the Real World (2017) (nautil.us)\n",
      "        72 points by tomerv 7 hours ago  | hide | 7&nbsp;comments              \n",
      "      \n",
      "                \n",
      "      13.      The Case for Leaving City Rats Alone (2016) (nautil.us)\n",
      "        22 points by dnetesn 5 hours ago  | hide | 3&nbsp;comments              \n",
      "      \n",
      "                \n",
      "      14.      Life and society are increasingly governed by numbers (economist.com)\n",
      "        153 points by jkuria 14 hours ago  | hide | 69&nbsp;comments              \n",
      "      \n",
      "                \n",
      "      15.      New OpenGL Driver for Intel Gen8 GPUs Merged into Mesa (freedesktop.org)\n",
      "        10 points by obl 3 hours ago  | hide | 5&nbsp;comments              \n",
      "      \n",
      "                \n",
      "      16.      Stories of Financial Windfalls (topic.com)\n",
      "        25 points by prostoalex 6 hours ago  | hide | 3&nbsp;comments              \n",
      "      \n",
      "                \n",
      "      17.      Dynamics at the Boundary of Game Theory and Distributed Computing (arxiv.org)\n",
      "        7 points by tctjr 2 hours ago  | hide | discuss              \n",
      "      \n",
      "                \n",
      "      18.      The SDK Powermac G5 for the Xbox 360 (journaldulapin.com)\n",
      "        4 points by bluedino 2 hours ago  | hide | discuss              \n",
      "      \n",
      "                \n",
      "      19.      Software Piracy Birthed an Underground Art Scene (2018) [video] (youtube.com)\n",
      "        68 points by bane 9 hours ago  | hide | 12&nbsp;comments              \n",
      "      \n",
      "                \n",
      "      20.      Mcpp: A Portable C Preprocessor (2008) (sourceforge.net)\n",
      "        30 points by blacksqr 10 hours ago  | hide | 5&nbsp;comments              \n",
      "      \n",
      "                \n",
      "      21.      Sam Altman: Bay Area is no longer the obvious place for startups (twitter.com)\n",
      "        279 points by everbody 11 hours ago  | hide | 184&nbsp;comments              \n",
      "      \n",
      "                \n",
      "      22.      Caret Package – A Practical Guide to Machine Learning in R (machinelearningplus.com)\n",
      "        33 points by selva86 8 hours ago  | hide | 2&nbsp;comments              \n",
      "      \n",
      "                \n",
      "      23.      When Algorithms Think You Want to Die (wired.com)\n",
      "        89 points by iron0013 13 hours ago  | hide | 54&nbsp;comments              \n",
      "      \n",
      "                \n",
      "      24.      New York governor orders probe into Facebook access to data from other apps (reuters.com)\n",
      "        385 points by tareqak 19 hours ago  | hide | 84&nbsp;comments              \n",
      "      \n",
      "                \n",
      "      25.      The Color Orange (mymodernmet.com)\n",
      "        25 points by flannery 9 hours ago  | hide | 8&nbsp;comments              \n",
      "      \n",
      "                \n",
      "      26.      Dark Matter Needs New Kinds of Experiments (nautil.us)\n",
      "        3 points by dnetesn 2 hours ago  | hide | discuss              \n",
      "      \n",
      "                \n",
      "      27.      Facebook Planned to Spy on Android Phone Users, Internal Emails Reveal (twitter.com)\n",
      "        150 points by DyslexicAtheist 8 hours ago  | hide | 32&nbsp;comments              \n",
      "      \n",
      "                \n",
      "      28.      Mino Games (YC W11) Is Hiring a Lead Back End Engineer in Montreal, QC (workable.com)\n",
      "        4 hours ago | hide      \n",
      "      \n",
      "                \n",
      "      29.      China’s surveillance state has created at least four billionaires (bloomberg.com)\n",
      "        47 points by metaphysics 5 hours ago  | hide | 36&nbsp;comments              \n",
      "      \n",
      "                \n",
      "      30.      John Ruskin: A Prophet for Our Troubled Times (newstatesman.com)\n",
      "        22 points by apollinaire 9 hours ago  | hide | discuss              \n",
      "      \n",
      "            More\n",
      "  \n",
      "\n",
      "\n",
      "        Applications are open for YC Summer 2019\n",
      "      Guidelines\n",
      "        | FAQ\n",
      "        | Support\n",
      "        | API\n",
      "        | Security\n",
      "        | Lists\n",
      "        | Bookmarklet\n",
      "        | Legal\n",
      "        | Apply to YC\n",
      "        | ContactSearch:\n",
      "          \n",
      "            \n",
      "      \n",
      "  \n",
      "\n"
     ]
    }
   ],
   "source": [
    "import re\n",
    "\n",
    "# Remove HTML tags using RegEx\n",
    "pattern = re.compile(r'<.*?>')  # tags look like <...>\n",
    "print(pattern.sub('', r.text))  # replace them with blank"
   ]
  },
  {
   "cell_type": "code",
   "execution_count": 5,
   "metadata": {},
   "outputs": [
    {
     "name": "stdout",
     "output_type": "stream",
     "text": [
      "\n",
      "            \n",
      "          \n",
      "        Hacker News\n",
      "        \n",
      "                  Hacker News\n",
      "              new | more | comments | ask | show | jobs | submit            \n",
      "                              login\n",
      "                          \n",
      "              \n",
      "\n",
      "              \n",
      "      1.      Halley: Lightweight Game Engine Written in C++14 (github.com)\n",
      "        103 points by ingve 3 hours ago  | hide | 10 comments              \n",
      "      \n",
      "                \n",
      "      2.      Toxic ‘Forever Chemicals’ in Drinking Water Leave Military Families Reeling (nytimes.com)\n",
      "        64 points by longdefeat 2 hours ago  | hide | 37 comments              \n",
      "      \n",
      "                \n",
      "      3.      Cleave.js – Format Input Text Content When You Are Typing (nosir.github.io)\n",
      "        19 points by octosphere 42 minutes ago  | hide | 2 comments              \n",
      "      \n",
      "                \n",
      "      4.      We’re Reading Fahrenheit 451 Wrong (thefrailestthing.com)\n",
      "        59 points by longdefeat 2 hours ago  | hide | 21 comments              \n",
      "      \n",
      "                \n",
      "      5.      Best of Arxiv.org for AI, Machine Learning, and Deep Learning – January 2019 (insidebigdata.com)\n",
      "        19 points by ghosthamlet 1 hour ago  | hide | 1 comment              \n",
      "      \n",
      "                \n",
      "      6.      Trolls Are Real (eff.org)\n",
      "        141 points by lelf 6 hours ago  | hide | 33 comments              \n",
      "      \n",
      "                \n",
      "      7.      Python: Even a Feature That You Do Not Use Can Bite You (petrzemek.net)\n",
      "        32 points by ingve 1 hour ago  | hide | 22 comments              \n",
      "      \n",
      "                \n",
      "      8.      Why Does Julia Work So Well? (ucidatascienceinitiative.github.io)\n",
      "        65 points by Tomte 4 hours ago  | hide | 39 comments              \n",
      "      \n",
      "                \n",
      "      9.      Why Language-Oriented Programming? Why Racket? (beautifulracket.com)\n",
      "        184 points by jessealama 9 hours ago  | hide | 49 comments              \n",
      "      \n",
      "                \n",
      "      10.      Berkshire Hathaway 2018 Annual Shareholder Letter [pdf] (berkshirehathaway.com)\n",
      "        39 points by vladd 2 hours ago  | hide | 20 comments              \n",
      "      \n",
      "                \n",
      "      11.      AWS API Performance Comparison: Serverless vs. Containers (alexdebrie.com)\n",
      "        6 points by abd12 1 hour ago  | hide | 1 comment              \n",
      "      \n",
      "                \n",
      "      12.      Impossible Mathematics of the Real World (2017) (nautil.us)\n",
      "        72 points by tomerv 7 hours ago  | hide | 7 comments              \n",
      "      \n",
      "                \n",
      "      13.      The Case for Leaving City Rats Alone (2016) (nautil.us)\n",
      "        22 points by dnetesn 5 hours ago  | hide | 3 comments              \n",
      "      \n",
      "                \n",
      "      14.      Life and society are increasingly governed by numbers (economist.com)\n",
      "        153 points by jkuria 14 hours ago  | hide | 69 comments              \n",
      "      \n",
      "                \n",
      "      15.      New OpenGL Driver for Intel Gen8 GPUs Merged into Mesa (freedesktop.org)\n",
      "        10 points by obl 3 hours ago  | hide | 5 comments              \n",
      "      \n",
      "                \n",
      "      16.      Stories of Financial Windfalls (topic.com)\n",
      "        25 points by prostoalex 6 hours ago  | hide | 3 comments              \n",
      "      \n",
      "                \n",
      "      17.      Dynamics at the Boundary of Game Theory and Distributed Computing (arxiv.org)\n",
      "        7 points by tctjr 2 hours ago  | hide | discuss              \n",
      "      \n",
      "                \n",
      "      18.      The SDK Powermac G5 for the Xbox 360 (journaldulapin.com)\n",
      "        4 points by bluedino 2 hours ago  | hide | discuss              \n",
      "      \n",
      "                \n",
      "      19.      Software Piracy Birthed an Underground Art Scene (2018) [video] (youtube.com)\n",
      "        68 points by bane 9 hours ago  | hide | 12 comments              \n",
      "      \n",
      "                \n",
      "      20.      Mcpp: A Portable C Preprocessor (2008) (sourceforge.net)\n",
      "        30 points by blacksqr 10 hours ago  | hide | 5 comments              \n",
      "      \n",
      "                \n",
      "      21.      Sam Altman: Bay Area is no longer the obvious place for startups (twitter.com)\n",
      "        279 points by everbody 11 hours ago  | hide | 184 comments              \n",
      "      \n",
      "                \n",
      "      22.      Caret Package – A Practical Guide to Machine Learning in R (machinelearningplus.com)\n",
      "        33 points by selva86 8 hours ago  | hide | 2 comments              \n",
      "      \n",
      "                \n",
      "      23.      When Algorithms Think You Want to Die (wired.com)\n",
      "        89 points by iron0013 13 hours ago  | hide | 54 comments              \n",
      "      \n",
      "                \n",
      "      24.      New York governor orders probe into Facebook access to data from other apps (reuters.com)\n",
      "        385 points by tareqak 19 hours ago  | hide | 84 comments              \n",
      "      \n",
      "                \n",
      "      25.      The Color Orange (mymodernmet.com)\n",
      "        25 points by flannery 9 hours ago  | hide | 8 comments              \n",
      "      \n",
      "                \n",
      "      26.      Dark Matter Needs New Kinds of Experiments (nautil.us)\n",
      "        3 points by dnetesn 2 hours ago  | hide | discuss              \n",
      "      \n",
      "                \n",
      "      27.      Facebook Planned to Spy on Android Phone Users, Internal Emails Reveal (twitter.com)\n",
      "        150 points by DyslexicAtheist 8 hours ago  | hide | 32 comments              \n",
      "      \n",
      "                \n",
      "      28.      Mino Games (YC W11) Is Hiring a Lead Back End Engineer in Montreal, QC (workable.com)\n",
      "        4 hours ago | hide      \n",
      "      \n",
      "                \n",
      "      29.      China’s surveillance state has created at least four billionaires (bloomberg.com)\n",
      "        47 points by metaphysics 5 hours ago  | hide | 36 comments              \n",
      "      \n",
      "                \n",
      "      30.      John Ruskin: A Prophet for Our Troubled Times (newstatesman.com)\n",
      "        22 points by apollinaire 9 hours ago  | hide | discuss              \n",
      "      \n",
      "            More\n",
      "  \n",
      "\n",
      "\n",
      "        Applications are open for YC Summer 2019\n",
      "      Guidelines\n",
      "        | FAQ\n",
      "        | Support\n",
      "        | API\n",
      "        | Security\n",
      "        | Lists\n",
      "        | Bookmarklet\n",
      "        | Legal\n",
      "        | Apply to YC\n",
      "        | ContactSearch:\n",
      "          \n",
      "            \n",
      "      \n",
      "  \n",
      "\n"
     ]
    }
   ],
   "source": [
    "from bs4 import BeautifulSoup\n",
    "\n",
    "# Remove HTML tags using Beautiful Soup library\n",
    "soup = BeautifulSoup(r.text, \"html5lib\")\n",
    "print(soup.get_text())"
   ]
  },
  {
   "cell_type": "code",
   "execution_count": 6,
   "metadata": {},
   "outputs": [
    {
     "data": {
      "text/plain": [
       "<tr class=\"athing\" id=\"19233124\">\n",
       "      <td align=\"right\" class=\"title\" valign=\"top\"><span class=\"rank\">1.</span></td>      <td class=\"votelinks\" valign=\"top\"><center><a href=\"vote?id=19233124&amp;how=up&amp;goto=news\" id=\"up_19233124\"><div class=\"votearrow\" title=\"upvote\"></div></a></center></td><td class=\"title\"><a class=\"storylink\" href=\"https://github.com/amzeratul/halley\">Halley: Lightweight Game Engine Written in C++14</a><span class=\"sitebit comhead\"> (<a href=\"from?site=github.com\"><span class=\"sitestr\">github.com</span></a>)</span></td></tr>"
      ]
     },
     "execution_count": 6,
     "metadata": {},
     "output_type": "execute_result"
    }
   ],
   "source": [
    "# Find all articles\n",
    "summaries = soup.find_all(\"tr\", class_=\"athing\")\n",
    "summaries[0]"
   ]
  },
  {
   "cell_type": "code",
   "execution_count": 7,
   "metadata": {},
   "outputs": [
    {
     "data": {
      "text/plain": [
       "'Halley: Lightweight Game Engine Written in C++14'"
      ]
     },
     "execution_count": 7,
     "metadata": {},
     "output_type": "execute_result"
    }
   ],
   "source": [
    "# Extract title\n",
    "summaries[0].find(\"a\", class_=\"storylink\").get_text().strip()"
   ]
  },
  {
   "cell_type": "code",
   "execution_count": 8,
   "metadata": {},
   "outputs": [
    {
     "name": "stdout",
     "output_type": "stream",
     "text": [
      "30 Article summaries found. Sample:\n",
      "Halley: Lightweight Game Engine Written in C++14\n"
     ]
    }
   ],
   "source": [
    "# Find all articles, extract titles\n",
    "articles = []\n",
    "summaries = soup.find_all(\"tr\", class_=\"athing\")\n",
    "for summary in summaries:\n",
    "    title = summary.find(\"a\", class_=\"storylink\").get_text().strip()\n",
    "    articles.append((title))\n",
    "\n",
    "print(len(articles), \"Article summaries found. Sample:\")\n",
    "print(articles[0])"
   ]
  },
  {
   "cell_type": "markdown",
   "metadata": {},
   "source": [
    "# Normalization\n",
    "Case Normalization"
   ]
  },
  {
   "cell_type": "code",
   "execution_count": 9,
   "metadata": {},
   "outputs": [
    {
     "name": "stdout",
     "output_type": "stream",
     "text": [
      "The first time you see The Second Renaissance it may look boring. Look at it at least twice and definitely watch part 2. It will change your view of the matrix. Are the human people the ones who started the war ? Is AI a bad thing ?\n"
     ]
    }
   ],
   "source": [
    "# Sample text\n",
    "text = \"The first time you see The Second Renaissance it may look boring. Look at it at least twice and definitely watch part 2. It will change your view of the matrix. Are the human people the ones who started the war ? Is AI a bad thing ?\"\n",
    "print(text)"
   ]
  },
  {
   "cell_type": "code",
   "execution_count": 10,
   "metadata": {},
   "outputs": [
    {
     "name": "stdout",
     "output_type": "stream",
     "text": [
      "the first time you see the second renaissance it may look boring. look at it at least twice and definitely watch part 2. it will change your view of the matrix. are the human people the ones who started the war ? is ai a bad thing ?\n"
     ]
    }
   ],
   "source": [
    "# Convert to lowercase\n",
    "text = text.lower() \n",
    "print(text)"
   ]
  },
  {
   "cell_type": "markdown",
   "metadata": {},
   "source": [
    "# Punctuation Removal\n"
   ]
  },
  {
   "cell_type": "code",
   "execution_count": 11,
   "metadata": {},
   "outputs": [
    {
     "name": "stdout",
     "output_type": "stream",
     "text": [
      "the first time you see the second renaissance it may look boring  look at it at least twice and definitely watch part 2  it will change your view of the matrix  are the human people the ones who started the war   is ai a bad thing  \n"
     ]
    }
   ],
   "source": [
    "\n",
    "import re\n",
    "\n",
    "# Remove punctuation characters\n",
    "text = re.sub(r\"[^a-zA-Z0-9]\", \" \", text) \n",
    "print(text)"
   ]
  },
  {
   "cell_type": "markdown",
   "metadata": {},
   "source": [
    "# Tokenization"
   ]
  },
  {
   "cell_type": "code",
   "execution_count": 12,
   "metadata": {},
   "outputs": [
    {
     "name": "stdout",
     "output_type": "stream",
     "text": [
      "['the', 'first', 'time', 'you', 'see', 'the', 'second', 'renaissance', 'it', 'may', 'look', 'boring', 'look', 'at', 'it', 'at', 'least', 'twice', 'and', 'definitely', 'watch', 'part', '2', 'it', 'will', 'change', 'your', 'view', 'of', 'the', 'matrix', 'are', 'the', 'human', 'people', 'the', 'ones', 'who', 'started', 'the', 'war', 'is', 'ai', 'a', 'bad', 'thing']\n"
     ]
    }
   ],
   "source": [
    "# Split text into tokens (words)\n",
    "words = text.split()\n",
    "print(words)"
   ]
  },
  {
   "cell_type": "code",
   "execution_count": null,
   "metadata": {},
   "outputs": [],
   "source": []
  },
  {
   "cell_type": "code",
   "execution_count": 13,
   "metadata": {},
   "outputs": [],
   "source": [
    "import nltk"
   ]
  },
  {
   "cell_type": "code",
   "execution_count": 14,
   "metadata": {},
   "outputs": [
    {
     "name": "stdout",
     "output_type": "stream",
     "text": [
      "Dr. Smith graduated from the University of Washington. He later started an analytics firm called Lux, which catered to enterprise customers.\n"
     ]
    }
   ],
   "source": [
    "# Another sample text\n",
    "text = \"Dr. Smith graduated from the University of Washington. He later started an analytics firm called Lux, which catered to enterprise customers.\"\n",
    "print(text)"
   ]
  },
  {
   "cell_type": "code",
   "execution_count": 15,
   "metadata": {},
   "outputs": [
    {
     "name": "stdout",
     "output_type": "stream",
     "text": [
      "['Dr.', 'Smith', 'graduated', 'from', 'the', 'University', 'of', 'Washington', '.', 'He', 'later', 'started', 'an', 'analytics', 'firm', 'called', 'Lux', ',', 'which', 'catered', 'to', 'enterprise', 'customers', '.']\n"
     ]
    }
   ],
   "source": [
    "from nltk.tokenize import word_tokenize\n",
    "\n",
    "# Split text into words using NLTK\n",
    "words = word_tokenize(text)\n",
    "print(words)"
   ]
  },
  {
   "cell_type": "code",
   "execution_count": 16,
   "metadata": {},
   "outputs": [
    {
     "name": "stdout",
     "output_type": "stream",
     "text": [
      "['Dr. Smith graduated from the University of Washington.', 'He later started an analytics firm called Lux, which catered to enterprise customers.']\n"
     ]
    }
   ],
   "source": [
    "from nltk.tokenize import sent_tokenize\n",
    "\n",
    "# Split text into sentences\n",
    "sentences = sent_tokenize(text)\n",
    "print(sentences)"
   ]
  },
  {
   "cell_type": "code",
   "execution_count": 17,
   "metadata": {},
   "outputs": [
    {
     "name": "stdout",
     "output_type": "stream",
     "text": [
      "['i', 'me', 'my', 'myself', 'we', 'our', 'ours', 'ourselves', 'you', \"you're\", \"you've\", \"you'll\", \"you'd\", 'your', 'yours', 'yourself', 'yourselves', 'he', 'him', 'his', 'himself', 'she', \"she's\", 'her', 'hers', 'herself', 'it', \"it's\", 'its', 'itself', 'they', 'them', 'their', 'theirs', 'themselves', 'what', 'which', 'who', 'whom', 'this', 'that', \"that'll\", 'these', 'those', 'am', 'is', 'are', 'was', 'were', 'be', 'been', 'being', 'have', 'has', 'had', 'having', 'do', 'does', 'did', 'doing', 'a', 'an', 'the', 'and', 'but', 'if', 'or', 'because', 'as', 'until', 'while', 'of', 'at', 'by', 'for', 'with', 'about', 'against', 'between', 'into', 'through', 'during', 'before', 'after', 'above', 'below', 'to', 'from', 'up', 'down', 'in', 'out', 'on', 'off', 'over', 'under', 'again', 'further', 'then', 'once', 'here', 'there', 'when', 'where', 'why', 'how', 'all', 'any', 'both', 'each', 'few', 'more', 'most', 'other', 'some', 'such', 'no', 'nor', 'not', 'only', 'own', 'same', 'so', 'than', 'too', 'very', 's', 't', 'can', 'will', 'just', 'don', \"don't\", 'should', \"should've\", 'now', 'd', 'll', 'm', 'o', 're', 've', 'y', 'ain', 'aren', \"aren't\", 'couldn', \"couldn't\", 'didn', \"didn't\", 'doesn', \"doesn't\", 'hadn', \"hadn't\", 'hasn', \"hasn't\", 'haven', \"haven't\", 'isn', \"isn't\", 'ma', 'mightn', \"mightn't\", 'mustn', \"mustn't\", 'needn', \"needn't\", 'shan', \"shan't\", 'shouldn', \"shouldn't\", 'wasn', \"wasn't\", 'weren', \"weren't\", 'won', \"won't\", 'wouldn', \"wouldn't\"]\n"
     ]
    }
   ],
   "source": [
    "# List stop words\n",
    "from nltk.corpus import stopwords\n",
    "print(stopwords.words(\"english\"))"
   ]
  },
  {
   "cell_type": "code",
   "execution_count": 18,
   "metadata": {},
   "outputs": [
    {
     "name": "stdout",
     "output_type": "stream",
     "text": [
      "['the', 'first', 'time', 'you', 'see', 'the', 'second', 'renaissance', 'it', 'may', 'look', 'boring', 'look', 'at', 'it', 'at', 'least', 'twice', 'and', 'definitely', 'watch', 'part', '2', 'it', 'will', 'change', 'your', 'view', 'of', 'the', 'matrix', 'are', 'the', 'human', 'people', 'the', 'ones', 'who', 'started', 'the', 'war', 'is', 'ai', 'a', 'bad', 'thing']\n"
     ]
    }
   ],
   "source": [
    "# Reset text\n",
    "text = \"The first time you see The Second Renaissance it may look boring. Look at it at least twice and definitely watch part 2. It will change your view of the matrix. Are the human people the ones who started the war ? Is AI a bad thing ?\"\n",
    "\n",
    "# Normalize it\n",
    "text = re.sub(r\"[^a-zA-Z0-9]\", \" \", text.lower())\n",
    "\n",
    "# Tokenize it\n",
    "words = text.split()\n",
    "print(words)"
   ]
  },
  {
   "cell_type": "code",
   "execution_count": 19,
   "metadata": {},
   "outputs": [
    {
     "name": "stdout",
     "output_type": "stream",
     "text": [
      "['first', 'time', 'see', 'second', 'renaissance', 'may', 'look', 'boring', 'look', 'least', 'twice', 'definitely', 'watch', 'part', '2', 'change', 'view', 'matrix', 'human', 'people', 'ones', 'started', 'war', 'ai', 'bad', 'thing']\n"
     ]
    }
   ],
   "source": [
    "# Remove stop words\n",
    "words = [w for w in words if w not in stopwords.words(\"english\")]\n",
    "print(words)"
   ]
  },
  {
   "cell_type": "markdown",
   "metadata": {},
   "source": [
    "# Sentence Parsing"
   ]
  },
  {
   "cell_type": "code",
   "execution_count": 20,
   "metadata": {},
   "outputs": [
    {
     "name": "stdout",
     "output_type": "stream",
     "text": [
      "(S\n",
      "  (NP I)\n",
      "  (VP\n",
      "    (VP (V shot) (NP (Det an) (N elephant)))\n",
      "    (PP (P in) (NP (Det my) (N pajamas)))))\n",
      "(S\n",
      "  (NP I)\n",
      "  (VP\n",
      "    (V shot)\n",
      "    (NP (Det an) (N elephant) (PP (P in) (NP (Det my) (N pajamas))))))\n"
     ]
    }
   ],
   "source": [
    "import nltk\n",
    "\n",
    "# Define a custom grammar\n",
    "my_grammar = nltk.CFG.fromstring(\"\"\"\n",
    "S -> NP VP\n",
    "PP -> P NP\n",
    "NP -> Det N | Det N PP | 'I'\n",
    "VP -> V NP | VP PP\n",
    "Det -> 'an' | 'my'\n",
    "N -> 'elephant' | 'pajamas'\n",
    "V -> 'shot'\n",
    "P -> 'in'\n",
    "\"\"\")\n",
    "parser = nltk.ChartParser(my_grammar)\n",
    "\n",
    "# Parse a sentence\n",
    "sentence = word_tokenize(\"I shot an elephant in my pajamas\")\n",
    "for tree in parser.parse(sentence):\n",
    "    print(tree)"
   ]
  },
  {
   "cell_type": "markdown",
   "metadata": {},
   "source": [
    "# Stemming & Lemmatization\n",
    "Stemming"
   ]
  },
  {
   "cell_type": "code",
   "execution_count": 21,
   "metadata": {},
   "outputs": [
    {
     "name": "stdout",
     "output_type": "stream",
     "text": [
      "['first', 'time', 'see', 'second', 'renaissance', 'may', 'look', 'boring', 'look', 'least', 'twice', 'definitely', 'watch', 'part', '2', 'change', 'view', 'matrix', 'human', 'people', 'one', 'started', 'war', 'ai', 'bad', 'thing']\n"
     ]
    }
   ],
   "source": [
    "from nltk.stem.wordnet import WordNetLemmatizer\n",
    "\n",
    "# Reduce words to their root form\n",
    "lemmed = [WordNetLemmatizer().lemmatize(w) for w in words]\n",
    "print(lemmed)"
   ]
  },
  {
   "cell_type": "code",
   "execution_count": 22,
   "metadata": {},
   "outputs": [
    {
     "name": "stdout",
     "output_type": "stream",
     "text": [
      "['first', 'time', 'see', 'second', 'renaissance', 'may', 'look', 'bore', 'look', 'least', 'twice', 'definitely', 'watch', 'part', '2', 'change', 'view', 'matrix', 'human', 'people', 'one', 'start', 'war', 'ai', 'bad', 'thing']\n"
     ]
    }
   ],
   "source": [
    "# Lemmatize verbs by specifying pos\n",
    "lemmed = [WordNetLemmatizer().lemmatize(w, pos='v') for w in lemmed]\n",
    "print(lemmed)"
   ]
  },
  {
   "cell_type": "code",
   "execution_count": null,
   "metadata": {},
   "outputs": [],
   "source": []
  }
 ],
 "metadata": {
  "kernelspec": {
   "display_name": "Python 3",
   "language": "python",
   "name": "python3"
  },
  "language_info": {
   "codemirror_mode": {
    "name": "ipython",
    "version": 3
   },
   "file_extension": ".py",
   "mimetype": "text/x-python",
   "name": "python",
   "nbconvert_exporter": "python",
   "pygments_lexer": "ipython3",
   "version": "3.7.0"
  }
 },
 "nbformat": 4,
 "nbformat_minor": 2
}
